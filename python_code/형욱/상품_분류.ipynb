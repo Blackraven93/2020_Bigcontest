{
 "cells": [
  {
   "cell_type": "code",
   "execution_count": null,
   "metadata": {},
   "outputs": [],
   "source": [
    "import numpy as np\n",
    "import pandas as pd\n",
    "import datetime as dt\n",
    "import matplotlib.pyplot as plt\n",
    "import seaborn as sns\n",
    "import missingno as msno\n",
    "%matplotlib inline\n",
    "\n",
    "# for문 진행 현황을 확인할 수 있는 패키지\n",
    "from tqdm.notebook import tqdm\n",
    "\n",
    "# 여러 개의 데이터 프레임을 한 번에 merge 해주기 위한 패키지\n",
    "from functools import reduce\n",
    "\n",
    "# 이 두 줄의 코드는 matplotlib의 기본 scheme말고, seaborn scheme을 세팅해준다\n",
    "# 일일이 graph의 font size를 지정할 필요 없이, seaborn의 font_scale을 사용하면 편리하다\n",
    "plt.style.use('seaborn')\n",
    "sns.set(font_scale = 2.5)\n",
    "\n",
    "# 그래프에서 한글 폰트 깨지는 문제를 해결해주기 위한 코드\n",
    "from matplotlib import font_manager, rc\n",
    "plt.rcParams['axes.unicode_minus'] = False\n",
    "\n",
    "import platform\n",
    "\n",
    "if platform.system() == 'Darwin':\n",
    "    rc('font', family='AppleGothic')\n",
    "elif platform.system() == 'Windows':\n",
    "    path = \"c:/Windows/Fonts/malgun.ttf\"\n",
    "    font_name = font_manager.FontProperties(fname = path).get_name()\n",
    "    rc('font', family = font_name)\n",
    "else:\n",
    "    print('Unknown system... sorry~~~~')"
   ]
  },
  {
   "cell_type": "markdown",
   "metadata": {},
   "source": [
    "**<데이터 불러오기>**"
   ]
  },
  {
   "cell_type": "code",
   "execution_count": null,
   "metadata": {},
   "outputs": [],
   "source": [
    "df_train = pd.read_csv('C:/Users/Playdata/2020_Bigcontest_working/dataset/df_train_final2.csv')\n",
    "df_train.head()"
   ]
  },
  {
   "cell_type": "markdown",
   "metadata": {},
   "source": [
    "# 상품 분류"
   ]
  },
  {
   "cell_type": "code",
   "execution_count": null,
   "metadata": {},
   "outputs": [],
   "source": [
    "df_train.pd_group.value_counts()"
   ]
  },
  {
   "cell_type": "markdown",
   "metadata": {},
   "source": [
    "## 각 상품군(총 11개)의 상품명들 확인\n",
    "- 중복된 상품명들은 제거해주도록 하겠다.\n",
    "    - ```drop_duplicates()``` 사용"
   ]
  },
  {
   "cell_type": "code",
   "execution_count": null,
   "metadata": {},
   "outputs": [],
   "source": [
    "pd_kitchen = pd.DataFrame(df_train[(df_train['pd_group'] == '주방')]['pd_name']).drop_duplicates()\n",
    "pd_kitchen.rename(columns = {'pd_name':'pd_kitchen'}, inplace = True)\n",
    "print(\"'주방' 상품군의 상품명 개수: \", len(pd_kitchen))\n",
    "print('-' * 50)\n",
    "\n",
    "pd_elec = pd.DataFrame(df_train[(df_train['pd_group'] == '가전')]['pd_name']).drop_duplicates()\n",
    "pd_elec.rename(columns = {'pd_name':'pd_elec'}, inplace = True)\n",
    "print(\"'가전' 상품군의 상품명 개수: \", len(pd_elec))\n",
    "print('-' * 50)\n",
    "\n",
    "pd_clothes = pd.DataFrame(df_train[(df_train['pd_group'] == '의류')]['pd_name']).drop_duplicates()\n",
    "pd_clothes.rename(columns = {'pd_name':'pd_clothes'}, inplace = True)\n",
    "print(\"'의류' 상품군의 상품명 개수: \", len(pd_clothes))\n",
    "print('-' * 50)\n",
    "\n",
    "pd_underwear = pd.DataFrame(df_train[(df_train['pd_group'] == '속옷')]['pd_name']).drop_duplicates()\n",
    "pd_underwear.rename(columns = {'pd_name':'pd_underwear'}, inplace = True)\n",
    "print(\"'속옷' 상품군의 상품명 개수: \", len(pd_underwear))\n",
    "print('-' * 50)\n",
    "\n",
    "pd_etc = pd.DataFrame(df_train[(df_train['pd_group'] == '잡화')]['pd_name']).drop_duplicates()\n",
    "pd_etc.rename(columns = {'pd_name':'pd_etc'}, inplace = True)\n",
    "print(\"'잡화' 상품군의 상품명 개수: \", len(pd_etc))\n",
    "print('-' * 50)\n",
    "\n",
    "pd_agri = pd.DataFrame(df_train[(df_train['pd_group'] == '농수축')]['pd_name']).drop_duplicates()\n",
    "pd_agri.rename(columns = {'pd_name':'pd_agri'}, inplace = True)\n",
    "print(\"'농수축' 상품군의 상품명 개수: \", len(pd_agri))\n",
    "print('-' * 50)\n",
    "\n",
    "pd_supply = pd.DataFrame(df_train[(df_train['pd_group'] == '생활용품')]['pd_name']).drop_duplicates()\n",
    "pd_supply.rename(columns = {'pd_name':'pd_supply'}, inplace = True)\n",
    "print(\"'생활용품' 상품군의 상품명 개수: \", len(pd_supply))\n",
    "print('-' * 50)\n",
    "\n",
    "pd_furniture = pd.DataFrame(df_train[(df_train['pd_group'] == '가구')]['pd_name']).drop_duplicates()\n",
    "pd_furniture.rename(columns = {'pd_name':'pd_furniture'}, inplace = True)\n",
    "print(\"'가구' 상품군의 상품명 개수: \", len(pd_furniture))\n",
    "print('-' * 50)\n",
    "\n",
    "pd_beauty = pd.DataFrame(df_train[(df_train['pd_group'] == '이미용')]['pd_name']).drop_duplicates()\n",
    "pd_beauty.rename(columns = {'pd_name':'pd_beauty'}, inplace = True)\n",
    "print(\"'이미용' 상품군의 상품명 개수: \", len(pd_beauty))\n",
    "print('-' * 50)\n",
    "\n",
    "pd_health = pd.DataFrame(df_train[(df_train['pd_group'] == '건강기능')]['pd_name']).drop_duplicates()\n",
    "pd_health.rename(columns = {'pd_name':'pd_health'}, inplace = True)\n",
    "print(\"'건강기능' 상품군의 상품명 개수: \", len(pd_health))\n",
    "print('-' * 50)\n",
    "\n",
    "pd_bed = pd.DataFrame(df_train[(df_train['pd_group'] == '침구')]['pd_name']).drop_duplicates()\n",
    "pd_bed.rename(columns = {'pd_name':'pd_bed'}, inplace = True)\n",
    "print(\"'침구' 상품군의 상품명 개수: \", len(pd_bed))"
   ]
  },
  {
   "cell_type": "markdown",
   "metadata": {},
   "source": [
    "- 이제 각 상품군별로 **브랜드명 및 세부적인 상품 리스트**를 추출해보겠다. (노가다)"
   ]
  },
  {
   "cell_type": "markdown",
   "metadata": {},
   "source": [
    "### \"주방\" 상품군"
   ]
  },
  {
   "cell_type": "code",
   "execution_count": null,
   "metadata": {},
   "outputs": [],
   "source": [
    "pd_kitchen_list = ['에코라믹 냄비', '쿠첸 압력밥솥', '린나이 가스레인지', '키친플라워 에어프라이어', '한일 분쇄믹서기', \n",
    "                   '쿠쿠 전기밥솥', '에코라믹 프라이팬', '스위스밀리터리 에어프라이어', '모즈 커피머신', '모즈 미니오븐', \n",
    "                   '아이오 진공포장기', '락앤락 칼블럭_키친툴', '키친플라워 참소쿠리', '락앤락 밀폐용기', '에버홈 직화그릴',\n",
    "                   '올리고 가스와이드그릴레인지', '쿠첸 티메이커', '해피콜 냄비', '스텐락 밀폐용기', '쓰임 도마',\n",
    "                   '로벤탈 실버팬', '뉴클레린 티메이커', '쿠쿠 전기밥솥', '린나이 가스레인지', '세균싹 행주티슈',\n",
    "                   '해피콜 싱크릴', '아이넥스 싱크선반', '락앤락 오븐글라스', '쿠쿠 인덕션레인지', '프로피쿡 에어프라이어',\n",
    "                   '키친아트 밀폐용기', '아이넥스 싱크선반', '쿠첸 압력밥솥', '쿠진나이프케어 살균건조기', '에지리 프라이팬',\n",
    "                   '베스트하임 에어프라이어', '노와 에어프라이어', '키친아트 밀폐용기', '쿠첸 압력밥솥', '델첸 텀블러블랜더',\n",
    "                   '베스트하임 에어프라이어', '해피콜 후라이팬', '올리고 가스와이드그릴', '파뷔에 도마', '쿠첸 압력밥솥',\n",
    "                   '해피콜 냄비', '드럼쿡 회전통그릴', '송도순 홈밀맷돌', '매직쉐프 에어프라이어', '테팔 프라이팬',\n",
    "                   '파뷔에 후라이팬', '쓰임 마리벨_홈세트', '글라스락 밀폐용기', '리큅 블렌더', '뉴욕맘 행주', \n",
    "                   '에지리 냄비', '한샘 프라이팬', '쿠진 바비큐그릴', '마이베비 텀블러', '휴롬 착즙기',\n",
    "                   '오스터 텀블러블랜더', '쿠쿠 전기밥솥', '파뷔에 도마', '매직쉐프 전자레인지', '휴롬 퀵스퀴저',\n",
    "                   '아이넥스 식기건조대', '에코바이런 도마', '웰스락 밀폐용기', '키친플라워 그린후레쉬', '하우홈 진공쿠킹블렌더',\n",
    "                   'am마카롱 텀블러', '두꺼비매직 수세미', 'QOOCA 휴대용믹서기', '오슬로 프라이팬', '안타고 가스그릴',\n",
    "                   '쿠쿠 전기밥솥', '뉴욕맘 수세미', '이지엔 지퍼백', '해피콜 양면팬', '해피콜 냄비', \n",
    "                   '에코라믹 냄비', '락앤락 살균블럭', '에코라믹 프라이팬', '에코라믹 냄비', '쿠쿠 전기밥솥',\n",
    "                   '파뷔에 식기건조대', '로벤탈 실버팬', '에델코첸 냄비', 'SK매직 식기세척기', '파뷔에 냄비',\n",
    "                   '실리만 냄비', '실리만 후라이팬', '노와 만능다지기', '엘가 가마솥', '벨라홈 행주티슈',\n",
    "                   '라니 그릴', 'PN풍년 죽제조기', '파뷔에 도마', '뉴욕맘 행주', '뉴욕맘 수세미', \n",
    "                   '쿠첸 전자레인지', '스마트코너 블렌더', '아이넥스 식기건조대', '센스락 무선진공포장기', '로벤탈 후라이팬',\n",
    "                   '올리고 가스와이드그릴레인지', '송도순 중탕기', '에버홈 믹서기', '클란츠 멀티쿡', '구스터 티포트',\n",
    "                   '해피콜 블렌더', '실바트 인덕션', '실바트 후라이팬', '셰프웨이 프라이팬', '파뷔에 디너세트', \n",
    "                   '키친아트 스텐용기', '쿠첸 압력밥솥', '세라맥스 전기레인지', '파뷔에 프라이팬', 'am마카롱 보온병', \n",
    "                   '셰프웨이 프라이팬', '키친플라워 에어프라이어', '셀렉프로 전기밥솥', '옥샘쿡 가마솥', '램프쿡 냄비', '벨라홈 멀티포트']"
   ]
  },
  {
   "cell_type": "code",
   "execution_count": null,
   "metadata": {},
   "outputs": [],
   "source": [
    "result1 = []\n",
    "for i in range(len(pd_kitchen_list)):\n",
    "    result1.append(pd_kitchen_list[i].split(' '))\n",
    "result1"
   ]
  },
  {
   "cell_type": "code",
   "execution_count": null,
   "metadata": {},
   "outputs": [],
   "source": [
    "kitchen_brand = [] # 브랜드 명을 담을 리스트\n",
    "kitchen_product = [] # 세부적인 상품 종류를 담을 리스트\n",
    "\n",
    "for i in range(len(result1)):\n",
    "    kitchen_brand.append(result1[i][0])\n",
    "    kitchen_product.append(result1[i][1])"
   ]
  },
  {
   "cell_type": "code",
   "execution_count": null,
   "metadata": {},
   "outputs": [],
   "source": [
    "# 브랜드 명 (총 65개의 브랜드가 존재)\n",
    "df_kitchen_brand = pd.DataFrame(kitchen_brand, columns = ['brand_name']).drop_duplicates()\n",
    "df_kitchen_brand"
   ]
  },
  {
   "cell_type": "code",
   "execution_count": null,
   "metadata": {},
   "outputs": [],
   "source": [
    "# 상품 종류 (총 62종의 상품이 존재)\n",
    "df_kitchen_product = pd.DataFrame(kitchen_product, columns = ['product']).drop_duplicates()\n",
    "df_kitchen_product"
   ]
  }
 ],
 "metadata": {
  "kernelspec": {
   "display_name": "Python 3",
   "language": "python",
   "name": "python3"
  },
  "language_info": {
   "codemirror_mode": {
    "name": "ipython",
    "version": 3
   },
   "file_extension": ".py",
   "mimetype": "text/x-python",
   "name": "python",
   "nbconvert_exporter": "python",
   "pygments_lexer": "ipython3",
   "version": "3.7.6"
  },
  "toc": {
   "base_numbering": 1,
   "nav_menu": {},
   "number_sections": true,
   "sideBar": true,
   "skip_h1_title": false,
   "title_cell": "Table of Contents",
   "title_sidebar": "Contents",
   "toc_cell": false,
   "toc_position": {},
   "toc_section_display": true,
   "toc_window_display": false
  }
 },
 "nbformat": 4,
 "nbformat_minor": 4
}
