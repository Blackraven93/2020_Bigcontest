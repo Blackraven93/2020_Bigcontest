{
 "cells": [
  {
   "cell_type": "markdown",
   "metadata": {},
   "source": [
    "# 군집화(Clustering)\n",
    "- 앞서 df_train_final 데이터 셋에 존재하는 연속형 변수들과 취급액(sales)의 상관관계를 확인해보았다.\n",
    "- 하지만 판매량(pd_count)외에 상관관계가 높은 변수들은 존재하지 않았다.\n",
    "    - 판매량의 경우 취급액과 높은 양의 상관관계가 있는 것이 당연함...\n",
    "- 따라서 **군집화(Clustering)**를 통해 유의미한 패턴 및 요인들을 발견해보고자 한다!!"
   ]
  },
  {
   "cell_type": "markdown",
   "metadata": {},
   "source": [
    "**<Raw Data 변수 설명>**\n",
    "1. date: 방송일시\n",
    "2. exp_mins: 노출(분)\n",
    "3. mom_code: 마더코드\n",
    "4. pd_code: 상품코드\n",
    "5. pd_name: 상품명\n",
    "6. pd_group: 상품군\n",
    "7. pd_price: 판매단가\n",
    "8. sales: 취급액\n",
    "    - 취급액 = 판매단가 x 주문량\n",
    "9. weekdays: 요일\n",
    "10. seasons: 계절\n",
    "    - 1: 겨울(winter): 12 ~ 2월\n",
    "    - 2: 봄(spring): 3 ~ 5월\n",
    "    - 3: 여름(summer): 6 ~ 8월\n",
    "    - 4: 가을(autumn): 9 ~ 11월\n",
    "11. rating: 시청률\n",
    "    - 단위는 \"%\"\n",
    "    - exp_mins(노출(분))을 기준으로 평균 값을 계산\n",
    "12. temp: 기온\n",
    "13. rain: 강수량\n",
    "14. humidity: 습도\n",
    "15. snow: 적설량\n",
    "16. dust: 미세먼지 농도\n",
    "17. is_rain: 비 내림 여부\n",
    "    - 0: 비 내리지 않음\n",
    "    - 1: 비 내림\n",
    "18. is_snow: 눈 내림 여부\n",
    "    - 0: 눈 내리지 않음\n",
    "    - 1: 눈 내림"
   ]
  },
  {
   "cell_type": "code",
   "execution_count": 1,
   "metadata": {
    "ExecuteTime": {
     "end_time": "2020-08-12T03:36:30.117975Z",
     "start_time": "2020-08-12T03:36:28.294853Z"
    }
   },
   "outputs": [],
   "source": [
    "import numpy as np\n",
    "import pandas as pd\n",
    "import datetime as dt\n",
    "import matplotlib.pyplot as plt\n",
    "import seaborn as sns\n",
    "import missingno as msno\n",
    "%matplotlib inline\n",
    "\n",
    "# for문 진행 현황을 확인할 수 있는 패키지\n",
    "from tqdm.notebook import tqdm\n",
    "\n",
    "# 여러 개의 데이터 프레임을 한 번에 merge 해주기 위한 패키지\n",
    "from functools import reduce\n",
    "\n",
    "# 이 두 줄의 코드는 matplotlib의 기본 scheme말고, seaborn scheme을 세팅해준다\n",
    "# 일일이 graph의 font size를 지정할 필요 없이, seaborn의 font_scale을 사용하면 편리하다\n",
    "plt.style.use('seaborn')\n",
    "sns.set(font_scale = 2.5)\n",
    "\n",
    "# 그래프에서 한글 폰트 깨지는 문제를 해결해주기 위한 코드\n",
    "from matplotlib import font_manager, rc\n",
    "plt.rcParams['axes.unicode_minus'] = False\n",
    "\n",
    "import platform\n",
    "\n",
    "if platform.system() == 'Darwin':\n",
    "    rc('font', family='AppleGothic')\n",
    "elif platform.system() == 'Windows':\n",
    "    path = \"c:/Windows/Fonts/malgun.ttf\"\n",
    "    font_name = font_manager.FontProperties(fname = path).get_name()\n",
    "    rc('font', family = font_name)\n",
    "else:\n",
    "    print('Unknown system... sorry~~~~')"
   ]
  },
  {
   "cell_type": "markdown",
   "metadata": {},
   "source": [
    "# 데이터 셋 확인"
   ]
  },
  {
   "cell_type": "code",
   "execution_count": 2,
   "metadata": {
    "ExecuteTime": {
     "end_time": "2020-08-12T03:36:30.422162Z",
     "start_time": "2020-08-12T03:36:30.120967Z"
    }
   },
   "outputs": [
    {
     "data": {
      "text/html": [
       "<div>\n",
       "<style scoped>\n",
       "    .dataframe tbody tr th:only-of-type {\n",
       "        vertical-align: middle;\n",
       "    }\n",
       "\n",
       "    .dataframe tbody tr th {\n",
       "        vertical-align: top;\n",
       "    }\n",
       "\n",
       "    .dataframe thead th {\n",
       "        text-align: right;\n",
       "    }\n",
       "</style>\n",
       "<table border=\"1\" class=\"dataframe\">\n",
       "  <thead>\n",
       "    <tr style=\"text-align: right;\">\n",
       "      <th></th>\n",
       "      <th>date</th>\n",
       "      <th>exp_mins</th>\n",
       "      <th>mom_code</th>\n",
       "      <th>pd_code</th>\n",
       "      <th>pd_name</th>\n",
       "      <th>pd_group</th>\n",
       "      <th>pd_price</th>\n",
       "      <th>sales</th>\n",
       "      <th>weekdays</th>\n",
       "      <th>seasons</th>\n",
       "      <th>...</th>\n",
       "      <th>snow</th>\n",
       "      <th>dust</th>\n",
       "      <th>is_rain</th>\n",
       "      <th>is_snow</th>\n",
       "      <th>pd_count</th>\n",
       "      <th>month</th>\n",
       "      <th>day</th>\n",
       "      <th>hour</th>\n",
       "      <th>month_cat</th>\n",
       "      <th>hour_cat</th>\n",
       "    </tr>\n",
       "  </thead>\n",
       "  <tbody>\n",
       "    <tr>\n",
       "      <th>0</th>\n",
       "      <td>2019-01-01 06:00:00</td>\n",
       "      <td>20.0</td>\n",
       "      <td>100346</td>\n",
       "      <td>201072</td>\n",
       "      <td>테이트 남성 셀린니트3종</td>\n",
       "      <td>의류</td>\n",
       "      <td>39900</td>\n",
       "      <td>2099000.0</td>\n",
       "      <td>Tuesday</td>\n",
       "      <td>1</td>\n",
       "      <td>...</td>\n",
       "      <td>NaN</td>\n",
       "      <td>65.0</td>\n",
       "      <td>0</td>\n",
       "      <td>0</td>\n",
       "      <td>53</td>\n",
       "      <td>1</td>\n",
       "      <td>1</td>\n",
       "      <td>6</td>\n",
       "      <td>상반기</td>\n",
       "      <td>오전</td>\n",
       "    </tr>\n",
       "    <tr>\n",
       "      <th>1</th>\n",
       "      <td>2019-01-01 06:00:00</td>\n",
       "      <td>20.0</td>\n",
       "      <td>100346</td>\n",
       "      <td>201079</td>\n",
       "      <td>테이트 여성 셀린니트3종</td>\n",
       "      <td>의류</td>\n",
       "      <td>39900</td>\n",
       "      <td>4371000.0</td>\n",
       "      <td>Tuesday</td>\n",
       "      <td>1</td>\n",
       "      <td>...</td>\n",
       "      <td>NaN</td>\n",
       "      <td>65.0</td>\n",
       "      <td>0</td>\n",
       "      <td>0</td>\n",
       "      <td>110</td>\n",
       "      <td>1</td>\n",
       "      <td>1</td>\n",
       "      <td>6</td>\n",
       "      <td>상반기</td>\n",
       "      <td>오전</td>\n",
       "    </tr>\n",
       "    <tr>\n",
       "      <th>2</th>\n",
       "      <td>2019-01-01 06:20:00</td>\n",
       "      <td>20.0</td>\n",
       "      <td>100346</td>\n",
       "      <td>201072</td>\n",
       "      <td>테이트 남성 셀린니트3종</td>\n",
       "      <td>의류</td>\n",
       "      <td>39900</td>\n",
       "      <td>3262000.0</td>\n",
       "      <td>Tuesday</td>\n",
       "      <td>1</td>\n",
       "      <td>...</td>\n",
       "      <td>NaN</td>\n",
       "      <td>65.0</td>\n",
       "      <td>0</td>\n",
       "      <td>0</td>\n",
       "      <td>82</td>\n",
       "      <td>1</td>\n",
       "      <td>1</td>\n",
       "      <td>6</td>\n",
       "      <td>상반기</td>\n",
       "      <td>오전</td>\n",
       "    </tr>\n",
       "    <tr>\n",
       "      <th>3</th>\n",
       "      <td>2019-01-01 06:20:00</td>\n",
       "      <td>20.0</td>\n",
       "      <td>100346</td>\n",
       "      <td>201079</td>\n",
       "      <td>테이트 여성 셀린니트3종</td>\n",
       "      <td>의류</td>\n",
       "      <td>39900</td>\n",
       "      <td>6955000.0</td>\n",
       "      <td>Tuesday</td>\n",
       "      <td>1</td>\n",
       "      <td>...</td>\n",
       "      <td>NaN</td>\n",
       "      <td>65.0</td>\n",
       "      <td>0</td>\n",
       "      <td>0</td>\n",
       "      <td>175</td>\n",
       "      <td>1</td>\n",
       "      <td>1</td>\n",
       "      <td>6</td>\n",
       "      <td>상반기</td>\n",
       "      <td>오전</td>\n",
       "    </tr>\n",
       "    <tr>\n",
       "      <th>4</th>\n",
       "      <td>2019-01-01 06:40:00</td>\n",
       "      <td>20.0</td>\n",
       "      <td>100346</td>\n",
       "      <td>201072</td>\n",
       "      <td>테이트 남성 셀린니트3종</td>\n",
       "      <td>의류</td>\n",
       "      <td>39900</td>\n",
       "      <td>6672000.0</td>\n",
       "      <td>Tuesday</td>\n",
       "      <td>1</td>\n",
       "      <td>...</td>\n",
       "      <td>NaN</td>\n",
       "      <td>65.0</td>\n",
       "      <td>0</td>\n",
       "      <td>0</td>\n",
       "      <td>168</td>\n",
       "      <td>1</td>\n",
       "      <td>1</td>\n",
       "      <td>6</td>\n",
       "      <td>상반기</td>\n",
       "      <td>오전</td>\n",
       "    </tr>\n",
       "    <tr>\n",
       "      <th>...</th>\n",
       "      <td>...</td>\n",
       "      <td>...</td>\n",
       "      <td>...</td>\n",
       "      <td>...</td>\n",
       "      <td>...</td>\n",
       "      <td>...</td>\n",
       "      <td>...</td>\n",
       "      <td>...</td>\n",
       "      <td>...</td>\n",
       "      <td>...</td>\n",
       "      <td>...</td>\n",
       "      <td>...</td>\n",
       "      <td>...</td>\n",
       "      <td>...</td>\n",
       "      <td>...</td>\n",
       "      <td>...</td>\n",
       "      <td>...</td>\n",
       "      <td>...</td>\n",
       "      <td>...</td>\n",
       "      <td>...</td>\n",
       "      <td>...</td>\n",
       "    </tr>\n",
       "    <tr>\n",
       "      <th>37367</th>\n",
       "      <td>2019-12-31 23:40:00</td>\n",
       "      <td>20.0</td>\n",
       "      <td>100448</td>\n",
       "      <td>201391</td>\n",
       "      <td>일시불쿠첸압력밥솥 6인용</td>\n",
       "      <td>주방</td>\n",
       "      <td>148000</td>\n",
       "      <td>10157000.0</td>\n",
       "      <td>Tuesday</td>\n",
       "      <td>1</td>\n",
       "      <td>...</td>\n",
       "      <td>NaN</td>\n",
       "      <td>24.0</td>\n",
       "      <td>0</td>\n",
       "      <td>0</td>\n",
       "      <td>69</td>\n",
       "      <td>12</td>\n",
       "      <td>31</td>\n",
       "      <td>23</td>\n",
       "      <td>하반기</td>\n",
       "      <td>밤</td>\n",
       "    </tr>\n",
       "    <tr>\n",
       "      <th>37368</th>\n",
       "      <td>2020-01-01 00:00:00</td>\n",
       "      <td>20.0</td>\n",
       "      <td>100448</td>\n",
       "      <td>201383</td>\n",
       "      <td>무이자쿠첸압력밥솥 10인용</td>\n",
       "      <td>주방</td>\n",
       "      <td>178000</td>\n",
       "      <td>50929000.0</td>\n",
       "      <td>Wednesday</td>\n",
       "      <td>1</td>\n",
       "      <td>...</td>\n",
       "      <td>NaN</td>\n",
       "      <td>27.0</td>\n",
       "      <td>0</td>\n",
       "      <td>0</td>\n",
       "      <td>287</td>\n",
       "      <td>1</td>\n",
       "      <td>1</td>\n",
       "      <td>0</td>\n",
       "      <td>상반기</td>\n",
       "      <td>심야</td>\n",
       "    </tr>\n",
       "    <tr>\n",
       "      <th>37369</th>\n",
       "      <td>2020-01-01 00:00:00</td>\n",
       "      <td>20.0</td>\n",
       "      <td>100448</td>\n",
       "      <td>201390</td>\n",
       "      <td>일시불쿠첸압력밥솥 10인용</td>\n",
       "      <td>주방</td>\n",
       "      <td>168000</td>\n",
       "      <td>104392000.0</td>\n",
       "      <td>Wednesday</td>\n",
       "      <td>1</td>\n",
       "      <td>...</td>\n",
       "      <td>NaN</td>\n",
       "      <td>27.0</td>\n",
       "      <td>0</td>\n",
       "      <td>0</td>\n",
       "      <td>622</td>\n",
       "      <td>1</td>\n",
       "      <td>1</td>\n",
       "      <td>0</td>\n",
       "      <td>상반기</td>\n",
       "      <td>심야</td>\n",
       "    </tr>\n",
       "    <tr>\n",
       "      <th>37370</th>\n",
       "      <td>2020-01-01 00:00:00</td>\n",
       "      <td>20.0</td>\n",
       "      <td>100448</td>\n",
       "      <td>201384</td>\n",
       "      <td>무이자쿠첸압력밥솥 6인용</td>\n",
       "      <td>주방</td>\n",
       "      <td>158000</td>\n",
       "      <td>13765000.0</td>\n",
       "      <td>Wednesday</td>\n",
       "      <td>1</td>\n",
       "      <td>...</td>\n",
       "      <td>NaN</td>\n",
       "      <td>27.0</td>\n",
       "      <td>0</td>\n",
       "      <td>0</td>\n",
       "      <td>88</td>\n",
       "      <td>1</td>\n",
       "      <td>1</td>\n",
       "      <td>0</td>\n",
       "      <td>상반기</td>\n",
       "      <td>심야</td>\n",
       "    </tr>\n",
       "    <tr>\n",
       "      <th>37371</th>\n",
       "      <td>2020-01-01 00:00:00</td>\n",
       "      <td>20.0</td>\n",
       "      <td>100448</td>\n",
       "      <td>201391</td>\n",
       "      <td>일시불쿠첸압력밥솥 6인용</td>\n",
       "      <td>주방</td>\n",
       "      <td>148000</td>\n",
       "      <td>46608000.0</td>\n",
       "      <td>Wednesday</td>\n",
       "      <td>1</td>\n",
       "      <td>...</td>\n",
       "      <td>NaN</td>\n",
       "      <td>27.0</td>\n",
       "      <td>0</td>\n",
       "      <td>0</td>\n",
       "      <td>315</td>\n",
       "      <td>1</td>\n",
       "      <td>1</td>\n",
       "      <td>0</td>\n",
       "      <td>상반기</td>\n",
       "      <td>심야</td>\n",
       "    </tr>\n",
       "  </tbody>\n",
       "</table>\n",
       "<p>37372 rows × 24 columns</p>\n",
       "</div>"
      ],
      "text/plain": [
       "                      date  exp_mins  mom_code  pd_code         pd_name  \\\n",
       "0      2019-01-01 06:00:00      20.0    100346   201072   테이트 남성 셀린니트3종   \n",
       "1      2019-01-01 06:00:00      20.0    100346   201079   테이트 여성 셀린니트3종   \n",
       "2      2019-01-01 06:20:00      20.0    100346   201072   테이트 남성 셀린니트3종   \n",
       "3      2019-01-01 06:20:00      20.0    100346   201079   테이트 여성 셀린니트3종   \n",
       "4      2019-01-01 06:40:00      20.0    100346   201072   테이트 남성 셀린니트3종   \n",
       "...                    ...       ...       ...      ...             ...   \n",
       "37367  2019-12-31 23:40:00      20.0    100448   201391   일시불쿠첸압력밥솥 6인용   \n",
       "37368  2020-01-01 00:00:00      20.0    100448   201383  무이자쿠첸압력밥솥 10인용   \n",
       "37369  2020-01-01 00:00:00      20.0    100448   201390  일시불쿠첸압력밥솥 10인용   \n",
       "37370  2020-01-01 00:00:00      20.0    100448   201384   무이자쿠첸압력밥솥 6인용   \n",
       "37371  2020-01-01 00:00:00      20.0    100448   201391   일시불쿠첸압력밥솥 6인용   \n",
       "\n",
       "      pd_group  pd_price        sales   weekdays  seasons  ...  snow  dust  \\\n",
       "0           의류     39900    2099000.0    Tuesday        1  ...   NaN  65.0   \n",
       "1           의류     39900    4371000.0    Tuesday        1  ...   NaN  65.0   \n",
       "2           의류     39900    3262000.0    Tuesday        1  ...   NaN  65.0   \n",
       "3           의류     39900    6955000.0    Tuesday        1  ...   NaN  65.0   \n",
       "4           의류     39900    6672000.0    Tuesday        1  ...   NaN  65.0   \n",
       "...        ...       ...          ...        ...      ...  ...   ...   ...   \n",
       "37367       주방    148000   10157000.0    Tuesday        1  ...   NaN  24.0   \n",
       "37368       주방    178000   50929000.0  Wednesday        1  ...   NaN  27.0   \n",
       "37369       주방    168000  104392000.0  Wednesday        1  ...   NaN  27.0   \n",
       "37370       주방    158000   13765000.0  Wednesday        1  ...   NaN  27.0   \n",
       "37371       주방    148000   46608000.0  Wednesday        1  ...   NaN  27.0   \n",
       "\n",
       "       is_rain  is_snow  pd_count  month  day  hour  month_cat  hour_cat  \n",
       "0            0        0        53      1    1     6        상반기        오전  \n",
       "1            0        0       110      1    1     6        상반기        오전  \n",
       "2            0        0        82      1    1     6        상반기        오전  \n",
       "3            0        0       175      1    1     6        상반기        오전  \n",
       "4            0        0       168      1    1     6        상반기        오전  \n",
       "...        ...      ...       ...    ...  ...   ...        ...       ...  \n",
       "37367        0        0        69     12   31    23        하반기         밤  \n",
       "37368        0        0       287      1    1     0        상반기        심야  \n",
       "37369        0        0       622      1    1     0        상반기        심야  \n",
       "37370        0        0        88      1    1     0        상반기        심야  \n",
       "37371        0        0       315      1    1     0        상반기        심야  \n",
       "\n",
       "[37372 rows x 24 columns]"
      ]
     },
     "execution_count": 2,
     "metadata": {},
     "output_type": "execute_result"
    }
   ],
   "source": [
    "df_train = pd.read_csv('C:/Users/Playdata/2020_Bigcontest_working/dataset/df_train_final2.csv')\n",
    "df_train"
   ]
  },
  {
   "cell_type": "code",
   "execution_count": 3,
   "metadata": {
    "ExecuteTime": {
     "end_time": "2020-08-12T03:36:30.464049Z",
     "start_time": "2020-08-12T03:36:30.425154Z"
    }
   },
   "outputs": [
    {
     "name": "stdout",
     "output_type": "stream",
     "text": [
      "<class 'pandas.core.frame.DataFrame'>\n",
      "RangeIndex: 37372 entries, 0 to 37371\n",
      "Data columns (total 24 columns):\n",
      " #   Column     Non-Null Count  Dtype  \n",
      "---  ------     --------------  -----  \n",
      " 0   date       37372 non-null  object \n",
      " 1   exp_mins   37372 non-null  float64\n",
      " 2   mom_code   37372 non-null  int64  \n",
      " 3   pd_code    37372 non-null  int64  \n",
      " 4   pd_name    37372 non-null  object \n",
      " 5   pd_group   37372 non-null  object \n",
      " 6   pd_price   37372 non-null  int64  \n",
      " 7   sales      37372 non-null  float64\n",
      " 8   weekdays   37372 non-null  object \n",
      " 9   seasons    37372 non-null  int64  \n",
      " 10  rating     37372 non-null  float64\n",
      " 11  temp       37372 non-null  float64\n",
      " 12  rain       37372 non-null  float64\n",
      " 13  humidity   37372 non-null  float64\n",
      " 14  snow       368 non-null    float64\n",
      " 15  dust       37372 non-null  float64\n",
      " 16  is_rain    37372 non-null  int64  \n",
      " 17  is_snow    37372 non-null  int64  \n",
      " 18  pd_count   37372 non-null  int64  \n",
      " 19  month      37372 non-null  int64  \n",
      " 20  day        37372 non-null  int64  \n",
      " 21  hour       37372 non-null  int64  \n",
      " 22  month_cat  37372 non-null  object \n",
      " 23  hour_cat   37372 non-null  object \n",
      "dtypes: float64(8), int64(10), object(6)\n",
      "memory usage: 6.8+ MB\n"
     ]
    }
   ],
   "source": [
    "df_train.info()"
   ]
  },
  {
   "cell_type": "markdown",
   "metadata": {},
   "source": [
    "# 데이터 타입 변경\n",
    "- 분석에 사용할 컬럼들 중, 범주형 변수들의 데이터 타입을 'category'로 변경해주겠다."
   ]
  },
  {
   "cell_type": "code",
   "execution_count": 4,
   "metadata": {
    "ExecuteTime": {
     "end_time": "2020-08-12T03:36:30.554807Z",
     "start_time": "2020-08-12T03:36:30.469039Z"
    }
   },
   "outputs": [
    {
     "name": "stdout",
     "output_type": "stream",
     "text": [
      "<class 'pandas.core.frame.DataFrame'>\n",
      "RangeIndex: 37372 entries, 0 to 37371\n",
      "Data columns (total 24 columns):\n",
      " #   Column     Non-Null Count  Dtype   \n",
      "---  ------     --------------  -----   \n",
      " 0   date       37372 non-null  object  \n",
      " 1   exp_mins   37372 non-null  float64 \n",
      " 2   mom_code   37372 non-null  int64   \n",
      " 3   pd_code    37372 non-null  int64   \n",
      " 4   pd_name    37372 non-null  object  \n",
      " 5   pd_group   37372 non-null  category\n",
      " 6   pd_price   37372 non-null  int64   \n",
      " 7   sales      37372 non-null  float64 \n",
      " 8   weekdays   37372 non-null  category\n",
      " 9   seasons    37372 non-null  category\n",
      " 10  rating     37372 non-null  float64 \n",
      " 11  temp       37372 non-null  float64 \n",
      " 12  rain       37372 non-null  float64 \n",
      " 13  humidity   37372 non-null  float64 \n",
      " 14  snow       368 non-null    float64 \n",
      " 15  dust       37372 non-null  float64 \n",
      " 16  is_rain    37372 non-null  category\n",
      " 17  is_snow    37372 non-null  category\n",
      " 18  pd_count   37372 non-null  int64   \n",
      " 19  month      37372 non-null  category\n",
      " 20  day        37372 non-null  category\n",
      " 21  hour       37372 non-null  category\n",
      " 22  month_cat  37372 non-null  category\n",
      " 23  hour_cat   37372 non-null  category\n",
      "dtypes: category(10), float64(8), int64(4), object(2)\n",
      "memory usage: 4.4+ MB\n"
     ]
    }
   ],
   "source": [
    "categoricalFeatureNames = ['month', 'day', 'hour', 'month_cat', 'hour_cat', 'weekdays', 'seasons',\n",
    "                           'pd_group', 'is_rain', 'is_snow']\n",
    "\n",
    "for var in categoricalFeatureNames:\n",
    "    df_train[var] = df_train[var].astype('category')\n",
    "df_train.info()"
   ]
  },
  {
   "cell_type": "markdown",
   "metadata": {},
   "source": [
    "# 범주형 변수 추출"
   ]
  },
  {
   "cell_type": "code",
   "execution_count": 5,
   "metadata": {
    "ExecuteTime": {
     "end_time": "2020-08-12T03:36:30.586723Z",
     "start_time": "2020-08-12T03:36:30.556801Z"
    }
   },
   "outputs": [
    {
     "data": {
      "text/html": [
       "<div>\n",
       "<style scoped>\n",
       "    .dataframe tbody tr th:only-of-type {\n",
       "        vertical-align: middle;\n",
       "    }\n",
       "\n",
       "    .dataframe tbody tr th {\n",
       "        vertical-align: top;\n",
       "    }\n",
       "\n",
       "    .dataframe thead th {\n",
       "        text-align: right;\n",
       "    }\n",
       "</style>\n",
       "<table border=\"1\" class=\"dataframe\">\n",
       "  <thead>\n",
       "    <tr style=\"text-align: right;\">\n",
       "      <th></th>\n",
       "      <th>month</th>\n",
       "      <th>day</th>\n",
       "      <th>hour</th>\n",
       "      <th>month_cat</th>\n",
       "      <th>hour_cat</th>\n",
       "      <th>weekdays</th>\n",
       "      <th>seasons</th>\n",
       "      <th>pd_group</th>\n",
       "      <th>is_rain</th>\n",
       "      <th>is_snow</th>\n",
       "    </tr>\n",
       "  </thead>\n",
       "  <tbody>\n",
       "    <tr>\n",
       "      <th>0</th>\n",
       "      <td>1</td>\n",
       "      <td>1</td>\n",
       "      <td>6</td>\n",
       "      <td>상반기</td>\n",
       "      <td>오전</td>\n",
       "      <td>Tuesday</td>\n",
       "      <td>1</td>\n",
       "      <td>의류</td>\n",
       "      <td>0</td>\n",
       "      <td>0</td>\n",
       "    </tr>\n",
       "    <tr>\n",
       "      <th>1</th>\n",
       "      <td>1</td>\n",
       "      <td>1</td>\n",
       "      <td>6</td>\n",
       "      <td>상반기</td>\n",
       "      <td>오전</td>\n",
       "      <td>Tuesday</td>\n",
       "      <td>1</td>\n",
       "      <td>의류</td>\n",
       "      <td>0</td>\n",
       "      <td>0</td>\n",
       "    </tr>\n",
       "    <tr>\n",
       "      <th>2</th>\n",
       "      <td>1</td>\n",
       "      <td>1</td>\n",
       "      <td>6</td>\n",
       "      <td>상반기</td>\n",
       "      <td>오전</td>\n",
       "      <td>Tuesday</td>\n",
       "      <td>1</td>\n",
       "      <td>의류</td>\n",
       "      <td>0</td>\n",
       "      <td>0</td>\n",
       "    </tr>\n",
       "    <tr>\n",
       "      <th>3</th>\n",
       "      <td>1</td>\n",
       "      <td>1</td>\n",
       "      <td>6</td>\n",
       "      <td>상반기</td>\n",
       "      <td>오전</td>\n",
       "      <td>Tuesday</td>\n",
       "      <td>1</td>\n",
       "      <td>의류</td>\n",
       "      <td>0</td>\n",
       "      <td>0</td>\n",
       "    </tr>\n",
       "    <tr>\n",
       "      <th>4</th>\n",
       "      <td>1</td>\n",
       "      <td>1</td>\n",
       "      <td>6</td>\n",
       "      <td>상반기</td>\n",
       "      <td>오전</td>\n",
       "      <td>Tuesday</td>\n",
       "      <td>1</td>\n",
       "      <td>의류</td>\n",
       "      <td>0</td>\n",
       "      <td>0</td>\n",
       "    </tr>\n",
       "  </tbody>\n",
       "</table>\n",
       "</div>"
      ],
      "text/plain": [
       "  month day hour month_cat hour_cat weekdays seasons pd_group is_rain is_snow\n",
       "0     1   1    6       상반기       오전  Tuesday       1       의류       0       0\n",
       "1     1   1    6       상반기       오전  Tuesday       1       의류       0       0\n",
       "2     1   1    6       상반기       오전  Tuesday       1       의류       0       0\n",
       "3     1   1    6       상반기       오전  Tuesday       1       의류       0       0\n",
       "4     1   1    6       상반기       오전  Tuesday       1       의류       0       0"
      ]
     },
     "execution_count": 5,
     "metadata": {},
     "output_type": "execute_result"
    }
   ],
   "source": [
    "df_cate = df_train[['month', 'day', 'hour', 'month_cat', 'hour_cat', 'weekdays', \n",
    "                    'seasons', 'pd_group', 'is_rain', 'is_snow']]\n",
    "df_cate.head()"
   ]
  },
  {
   "cell_type": "markdown",
   "metadata": {},
   "source": [
    "## 범주형 변수 One-Hot Encoding"
   ]
  },
  {
   "cell_type": "code",
   "execution_count": 6,
   "metadata": {
    "ExecuteTime": {
     "end_time": "2020-08-12T03:36:30.768238Z",
     "start_time": "2020-08-12T03:36:30.590711Z"
    }
   },
   "outputs": [],
   "source": [
    "df_cate = pd.get_dummies(df_cate, columns = ['month'], prefix = 'month')\n",
    "df_cate = pd.get_dummies(df_cate, columns = ['day'], prefix = 'day')\n",
    "df_cate = pd.get_dummies(df_cate, columns = ['hour'], prefix = 'hour')\n",
    "df_cate = pd.get_dummies(df_cate, columns = ['month_cat'], prefix = 'month_cat')\n",
    "df_cate = pd.get_dummies(df_cate, columns = ['hour_cat'], prefix = 'hour_cat')\n",
    "df_cate = pd.get_dummies(df_cate, columns = ['weekdays'], prefix = 'weekdays')\n",
    "df_cate = pd.get_dummies(df_cate, columns = ['seasons'], prefix = 'seasons')\n",
    "df_cate = pd.get_dummies(df_cate, columns = ['pd_group'], prefix = 'pd_group')\n",
    "df_cate = pd.get_dummies(df_cate, columns = ['is_rain'], prefix = 'is_rain')\n",
    "df_cate = pd.get_dummies(df_cate, columns = ['is_snow'], prefix = 'is_snow')"
   ]
  },
  {
   "cell_type": "markdown",
   "metadata": {},
   "source": [
    "# 연속형 변수 추출 및 Feature Scaling\n",
    "- 스케일링 기법으로는 ```MinMaxScaler()```를 사용할 것이다."
   ]
  },
  {
   "cell_type": "code",
   "execution_count": 7,
   "metadata": {
    "ExecuteTime": {
     "end_time": "2020-08-12T03:36:30.842038Z",
     "start_time": "2020-08-12T03:36:30.770230Z"
    }
   },
   "outputs": [
    {
     "data": {
      "text/html": [
       "<div>\n",
       "<style scoped>\n",
       "    .dataframe tbody tr th:only-of-type {\n",
       "        vertical-align: middle;\n",
       "    }\n",
       "\n",
       "    .dataframe tbody tr th {\n",
       "        vertical-align: top;\n",
       "    }\n",
       "\n",
       "    .dataframe thead th {\n",
       "        text-align: right;\n",
       "    }\n",
       "</style>\n",
       "<table border=\"1\" class=\"dataframe\">\n",
       "  <thead>\n",
       "    <tr style=\"text-align: right;\">\n",
       "      <th></th>\n",
       "      <th>exp_mins</th>\n",
       "      <th>pd_price</th>\n",
       "      <th>rating</th>\n",
       "      <th>temp</th>\n",
       "      <th>rain</th>\n",
       "      <th>humidity</th>\n",
       "      <th>dust</th>\n",
       "    </tr>\n",
       "  </thead>\n",
       "  <tbody>\n",
       "    <tr>\n",
       "      <th>0</th>\n",
       "      <td>0.46714</td>\n",
       "      <td>0.003423</td>\n",
       "      <td>0.0</td>\n",
       "      <td>0.061053</td>\n",
       "      <td>0.04902</td>\n",
       "      <td>0.574713</td>\n",
       "      <td>0.237736</td>\n",
       "    </tr>\n",
       "    <tr>\n",
       "      <th>1</th>\n",
       "      <td>0.46714</td>\n",
       "      <td>0.003423</td>\n",
       "      <td>0.0</td>\n",
       "      <td>0.061053</td>\n",
       "      <td>0.04902</td>\n",
       "      <td>0.574713</td>\n",
       "      <td>0.237736</td>\n",
       "    </tr>\n",
       "    <tr>\n",
       "      <th>2</th>\n",
       "      <td>0.46714</td>\n",
       "      <td>0.003423</td>\n",
       "      <td>0.0</td>\n",
       "      <td>0.061053</td>\n",
       "      <td>0.04902</td>\n",
       "      <td>0.574713</td>\n",
       "      <td>0.237736</td>\n",
       "    </tr>\n",
       "    <tr>\n",
       "      <th>3</th>\n",
       "      <td>0.46714</td>\n",
       "      <td>0.003423</td>\n",
       "      <td>0.0</td>\n",
       "      <td>0.061053</td>\n",
       "      <td>0.04902</td>\n",
       "      <td>0.574713</td>\n",
       "      <td>0.237736</td>\n",
       "    </tr>\n",
       "    <tr>\n",
       "      <th>4</th>\n",
       "      <td>0.46714</td>\n",
       "      <td>0.003423</td>\n",
       "      <td>0.0</td>\n",
       "      <td>0.061053</td>\n",
       "      <td>0.04902</td>\n",
       "      <td>0.574713</td>\n",
       "      <td>0.237736</td>\n",
       "    </tr>\n",
       "  </tbody>\n",
       "</table>\n",
       "</div>"
      ],
      "text/plain": [
       "   exp_mins  pd_price  rating      temp     rain  humidity      dust\n",
       "0   0.46714  0.003423     0.0  0.061053  0.04902  0.574713  0.237736\n",
       "1   0.46714  0.003423     0.0  0.061053  0.04902  0.574713  0.237736\n",
       "2   0.46714  0.003423     0.0  0.061053  0.04902  0.574713  0.237736\n",
       "3   0.46714  0.003423     0.0  0.061053  0.04902  0.574713  0.237736\n",
       "4   0.46714  0.003423     0.0  0.061053  0.04902  0.574713  0.237736"
      ]
     },
     "execution_count": 7,
     "metadata": {},
     "output_type": "execute_result"
    }
   ],
   "source": [
    "# 연속형 변수만 추출된 데이터 셋\n",
    "df_cont = df_train[['exp_mins', 'pd_price', 'rating', 'temp', 'rain', 'humidity', 'dust']]\n",
    "\n",
    "from sklearn.preprocessing import MinMaxScaler\n",
    "\n",
    "scaler = MinMaxScaler()\n",
    "scaler.fit(df_cont)\n",
    "df_cont_scaled = scaler.transform(df_cont)\n",
    "\n",
    "# transform()을 수행하면 스케일 변환된 데이터 셋이 Numpy ndarray로 반환되기 때문에, 이를 DataFrame으로 변경\n",
    "df_cont_scaled = pd.DataFrame(df_cont_scaled, columns = df_cont.columns)\n",
    "\n",
    "df_cont_scaled.head()"
   ]
  },
  {
   "cell_type": "markdown",
   "metadata": {},
   "source": [
    "# 군집화를 위한 데이터 셋 생성\n",
    "- \"원-핫 인코딩 처리된 범주형 변수\" + \"스케일링 처리된 연속형 변수\""
   ]
  },
  {
   "cell_type": "code",
   "execution_count": 8,
   "metadata": {
    "ExecuteTime": {
     "end_time": "2020-08-12T03:36:30.854007Z",
     "start_time": "2020-08-12T03:36:30.846029Z"
    }
   },
   "outputs": [
    {
     "data": {
      "text/plain": [
       "(37372, 96)"
      ]
     },
     "execution_count": 8,
     "metadata": {},
     "output_type": "execute_result"
    }
   ],
   "source": [
    "df_cate.shape"
   ]
  },
  {
   "cell_type": "code",
   "execution_count": 9,
   "metadata": {
    "ExecuteTime": {
     "end_time": "2020-08-12T03:36:30.865975Z",
     "start_time": "2020-08-12T03:36:30.857997Z"
    }
   },
   "outputs": [
    {
     "data": {
      "text/plain": [
       "(37372, 7)"
      ]
     },
     "execution_count": 9,
     "metadata": {},
     "output_type": "execute_result"
    }
   ],
   "source": [
    "df_cont_scaled.shape"
   ]
  },
  {
   "cell_type": "code",
   "execution_count": 10,
   "metadata": {
    "ExecuteTime": {
     "end_time": "2020-08-12T03:36:30.932795Z",
     "start_time": "2020-08-12T03:36:30.868967Z"
    }
   },
   "outputs": [
    {
     "data": {
      "text/html": [
       "<div>\n",
       "<style scoped>\n",
       "    .dataframe tbody tr th:only-of-type {\n",
       "        vertical-align: middle;\n",
       "    }\n",
       "\n",
       "    .dataframe tbody tr th {\n",
       "        vertical-align: top;\n",
       "    }\n",
       "\n",
       "    .dataframe thead th {\n",
       "        text-align: right;\n",
       "    }\n",
       "</style>\n",
       "<table border=\"1\" class=\"dataframe\">\n",
       "  <thead>\n",
       "    <tr style=\"text-align: right;\">\n",
       "      <th></th>\n",
       "      <th>month_1</th>\n",
       "      <th>month_2</th>\n",
       "      <th>month_3</th>\n",
       "      <th>month_4</th>\n",
       "      <th>month_5</th>\n",
       "      <th>month_6</th>\n",
       "      <th>month_7</th>\n",
       "      <th>month_8</th>\n",
       "      <th>month_9</th>\n",
       "      <th>month_10</th>\n",
       "      <th>...</th>\n",
       "      <th>is_rain_1</th>\n",
       "      <th>is_snow_0</th>\n",
       "      <th>is_snow_1</th>\n",
       "      <th>exp_mins</th>\n",
       "      <th>pd_price</th>\n",
       "      <th>rating</th>\n",
       "      <th>temp</th>\n",
       "      <th>rain</th>\n",
       "      <th>humidity</th>\n",
       "      <th>dust</th>\n",
       "    </tr>\n",
       "  </thead>\n",
       "  <tbody>\n",
       "    <tr>\n",
       "      <th>0</th>\n",
       "      <td>1</td>\n",
       "      <td>0</td>\n",
       "      <td>0</td>\n",
       "      <td>0</td>\n",
       "      <td>0</td>\n",
       "      <td>0</td>\n",
       "      <td>0</td>\n",
       "      <td>0</td>\n",
       "      <td>0</td>\n",
       "      <td>0</td>\n",
       "      <td>...</td>\n",
       "      <td>0</td>\n",
       "      <td>1</td>\n",
       "      <td>0</td>\n",
       "      <td>0.46714</td>\n",
       "      <td>0.003423</td>\n",
       "      <td>0.000000</td>\n",
       "      <td>0.061053</td>\n",
       "      <td>0.04902</td>\n",
       "      <td>0.574713</td>\n",
       "      <td>0.237736</td>\n",
       "    </tr>\n",
       "    <tr>\n",
       "      <th>1</th>\n",
       "      <td>1</td>\n",
       "      <td>0</td>\n",
       "      <td>0</td>\n",
       "      <td>0</td>\n",
       "      <td>0</td>\n",
       "      <td>0</td>\n",
       "      <td>0</td>\n",
       "      <td>0</td>\n",
       "      <td>0</td>\n",
       "      <td>0</td>\n",
       "      <td>...</td>\n",
       "      <td>0</td>\n",
       "      <td>1</td>\n",
       "      <td>0</td>\n",
       "      <td>0.46714</td>\n",
       "      <td>0.003423</td>\n",
       "      <td>0.000000</td>\n",
       "      <td>0.061053</td>\n",
       "      <td>0.04902</td>\n",
       "      <td>0.574713</td>\n",
       "      <td>0.237736</td>\n",
       "    </tr>\n",
       "    <tr>\n",
       "      <th>2</th>\n",
       "      <td>1</td>\n",
       "      <td>0</td>\n",
       "      <td>0</td>\n",
       "      <td>0</td>\n",
       "      <td>0</td>\n",
       "      <td>0</td>\n",
       "      <td>0</td>\n",
       "      <td>0</td>\n",
       "      <td>0</td>\n",
       "      <td>0</td>\n",
       "      <td>...</td>\n",
       "      <td>0</td>\n",
       "      <td>1</td>\n",
       "      <td>0</td>\n",
       "      <td>0.46714</td>\n",
       "      <td>0.003423</td>\n",
       "      <td>0.000000</td>\n",
       "      <td>0.061053</td>\n",
       "      <td>0.04902</td>\n",
       "      <td>0.574713</td>\n",
       "      <td>0.237736</td>\n",
       "    </tr>\n",
       "    <tr>\n",
       "      <th>3</th>\n",
       "      <td>1</td>\n",
       "      <td>0</td>\n",
       "      <td>0</td>\n",
       "      <td>0</td>\n",
       "      <td>0</td>\n",
       "      <td>0</td>\n",
       "      <td>0</td>\n",
       "      <td>0</td>\n",
       "      <td>0</td>\n",
       "      <td>0</td>\n",
       "      <td>...</td>\n",
       "      <td>0</td>\n",
       "      <td>1</td>\n",
       "      <td>0</td>\n",
       "      <td>0.46714</td>\n",
       "      <td>0.003423</td>\n",
       "      <td>0.000000</td>\n",
       "      <td>0.061053</td>\n",
       "      <td>0.04902</td>\n",
       "      <td>0.574713</td>\n",
       "      <td>0.237736</td>\n",
       "    </tr>\n",
       "    <tr>\n",
       "      <th>4</th>\n",
       "      <td>1</td>\n",
       "      <td>0</td>\n",
       "      <td>0</td>\n",
       "      <td>0</td>\n",
       "      <td>0</td>\n",
       "      <td>0</td>\n",
       "      <td>0</td>\n",
       "      <td>0</td>\n",
       "      <td>0</td>\n",
       "      <td>0</td>\n",
       "      <td>...</td>\n",
       "      <td>0</td>\n",
       "      <td>1</td>\n",
       "      <td>0</td>\n",
       "      <td>0.46714</td>\n",
       "      <td>0.003423</td>\n",
       "      <td>0.000000</td>\n",
       "      <td>0.061053</td>\n",
       "      <td>0.04902</td>\n",
       "      <td>0.574713</td>\n",
       "      <td>0.237736</td>\n",
       "    </tr>\n",
       "    <tr>\n",
       "      <th>...</th>\n",
       "      <td>...</td>\n",
       "      <td>...</td>\n",
       "      <td>...</td>\n",
       "      <td>...</td>\n",
       "      <td>...</td>\n",
       "      <td>...</td>\n",
       "      <td>...</td>\n",
       "      <td>...</td>\n",
       "      <td>...</td>\n",
       "      <td>...</td>\n",
       "      <td>...</td>\n",
       "      <td>...</td>\n",
       "      <td>...</td>\n",
       "      <td>...</td>\n",
       "      <td>...</td>\n",
       "      <td>...</td>\n",
       "      <td>...</td>\n",
       "      <td>...</td>\n",
       "      <td>...</td>\n",
       "      <td>...</td>\n",
       "      <td>...</td>\n",
       "    </tr>\n",
       "    <tr>\n",
       "      <th>37367</th>\n",
       "      <td>0</td>\n",
       "      <td>0</td>\n",
       "      <td>0</td>\n",
       "      <td>0</td>\n",
       "      <td>0</td>\n",
       "      <td>0</td>\n",
       "      <td>0</td>\n",
       "      <td>0</td>\n",
       "      <td>0</td>\n",
       "      <td>0</td>\n",
       "      <td>...</td>\n",
       "      <td>0</td>\n",
       "      <td>1</td>\n",
       "      <td>0</td>\n",
       "      <td>0.46714</td>\n",
       "      <td>0.017077</td>\n",
       "      <td>0.172264</td>\n",
       "      <td>0.071579</td>\n",
       "      <td>0.00000</td>\n",
       "      <td>0.402299</td>\n",
       "      <td>0.083019</td>\n",
       "    </tr>\n",
       "    <tr>\n",
       "      <th>37368</th>\n",
       "      <td>1</td>\n",
       "      <td>0</td>\n",
       "      <td>0</td>\n",
       "      <td>0</td>\n",
       "      <td>0</td>\n",
       "      <td>0</td>\n",
       "      <td>0</td>\n",
       "      <td>0</td>\n",
       "      <td>0</td>\n",
       "      <td>0</td>\n",
       "      <td>...</td>\n",
       "      <td>0</td>\n",
       "      <td>1</td>\n",
       "      <td>0</td>\n",
       "      <td>0.46714</td>\n",
       "      <td>0.020866</td>\n",
       "      <td>0.219676</td>\n",
       "      <td>0.090526</td>\n",
       "      <td>0.00000</td>\n",
       "      <td>0.321839</td>\n",
       "      <td>0.094340</td>\n",
       "    </tr>\n",
       "    <tr>\n",
       "      <th>37369</th>\n",
       "      <td>1</td>\n",
       "      <td>0</td>\n",
       "      <td>0</td>\n",
       "      <td>0</td>\n",
       "      <td>0</td>\n",
       "      <td>0</td>\n",
       "      <td>0</td>\n",
       "      <td>0</td>\n",
       "      <td>0</td>\n",
       "      <td>0</td>\n",
       "      <td>...</td>\n",
       "      <td>0</td>\n",
       "      <td>1</td>\n",
       "      <td>0</td>\n",
       "      <td>0.46714</td>\n",
       "      <td>0.019603</td>\n",
       "      <td>0.219676</td>\n",
       "      <td>0.090526</td>\n",
       "      <td>0.00000</td>\n",
       "      <td>0.321839</td>\n",
       "      <td>0.094340</td>\n",
       "    </tr>\n",
       "    <tr>\n",
       "      <th>37370</th>\n",
       "      <td>1</td>\n",
       "      <td>0</td>\n",
       "      <td>0</td>\n",
       "      <td>0</td>\n",
       "      <td>0</td>\n",
       "      <td>0</td>\n",
       "      <td>0</td>\n",
       "      <td>0</td>\n",
       "      <td>0</td>\n",
       "      <td>0</td>\n",
       "      <td>...</td>\n",
       "      <td>0</td>\n",
       "      <td>1</td>\n",
       "      <td>0</td>\n",
       "      <td>0.46714</td>\n",
       "      <td>0.018340</td>\n",
       "      <td>0.219676</td>\n",
       "      <td>0.090526</td>\n",
       "      <td>0.00000</td>\n",
       "      <td>0.321839</td>\n",
       "      <td>0.094340</td>\n",
       "    </tr>\n",
       "    <tr>\n",
       "      <th>37371</th>\n",
       "      <td>1</td>\n",
       "      <td>0</td>\n",
       "      <td>0</td>\n",
       "      <td>0</td>\n",
       "      <td>0</td>\n",
       "      <td>0</td>\n",
       "      <td>0</td>\n",
       "      <td>0</td>\n",
       "      <td>0</td>\n",
       "      <td>0</td>\n",
       "      <td>...</td>\n",
       "      <td>0</td>\n",
       "      <td>1</td>\n",
       "      <td>0</td>\n",
       "      <td>0.46714</td>\n",
       "      <td>0.017077</td>\n",
       "      <td>0.219676</td>\n",
       "      <td>0.090526</td>\n",
       "      <td>0.00000</td>\n",
       "      <td>0.321839</td>\n",
       "      <td>0.094340</td>\n",
       "    </tr>\n",
       "  </tbody>\n",
       "</table>\n",
       "<p>37372 rows × 103 columns</p>\n",
       "</div>"
      ],
      "text/plain": [
       "       month_1  month_2  month_3  month_4  month_5  month_6  month_7  month_8  \\\n",
       "0            1        0        0        0        0        0        0        0   \n",
       "1            1        0        0        0        0        0        0        0   \n",
       "2            1        0        0        0        0        0        0        0   \n",
       "3            1        0        0        0        0        0        0        0   \n",
       "4            1        0        0        0        0        0        0        0   \n",
       "...        ...      ...      ...      ...      ...      ...      ...      ...   \n",
       "37367        0        0        0        0        0        0        0        0   \n",
       "37368        1        0        0        0        0        0        0        0   \n",
       "37369        1        0        0        0        0        0        0        0   \n",
       "37370        1        0        0        0        0        0        0        0   \n",
       "37371        1        0        0        0        0        0        0        0   \n",
       "\n",
       "       month_9  month_10  ...  is_rain_1  is_snow_0  is_snow_1  exp_mins  \\\n",
       "0            0         0  ...          0          1          0   0.46714   \n",
       "1            0         0  ...          0          1          0   0.46714   \n",
       "2            0         0  ...          0          1          0   0.46714   \n",
       "3            0         0  ...          0          1          0   0.46714   \n",
       "4            0         0  ...          0          1          0   0.46714   \n",
       "...        ...       ...  ...        ...        ...        ...       ...   \n",
       "37367        0         0  ...          0          1          0   0.46714   \n",
       "37368        0         0  ...          0          1          0   0.46714   \n",
       "37369        0         0  ...          0          1          0   0.46714   \n",
       "37370        0         0  ...          0          1          0   0.46714   \n",
       "37371        0         0  ...          0          1          0   0.46714   \n",
       "\n",
       "       pd_price    rating      temp     rain  humidity      dust  \n",
       "0      0.003423  0.000000  0.061053  0.04902  0.574713  0.237736  \n",
       "1      0.003423  0.000000  0.061053  0.04902  0.574713  0.237736  \n",
       "2      0.003423  0.000000  0.061053  0.04902  0.574713  0.237736  \n",
       "3      0.003423  0.000000  0.061053  0.04902  0.574713  0.237736  \n",
       "4      0.003423  0.000000  0.061053  0.04902  0.574713  0.237736  \n",
       "...         ...       ...       ...      ...       ...       ...  \n",
       "37367  0.017077  0.172264  0.071579  0.00000  0.402299  0.083019  \n",
       "37368  0.020866  0.219676  0.090526  0.00000  0.321839  0.094340  \n",
       "37369  0.019603  0.219676  0.090526  0.00000  0.321839  0.094340  \n",
       "37370  0.018340  0.219676  0.090526  0.00000  0.321839  0.094340  \n",
       "37371  0.017077  0.219676  0.090526  0.00000  0.321839  0.094340  \n",
       "\n",
       "[37372 rows x 103 columns]"
      ]
     },
     "execution_count": 10,
     "metadata": {},
     "output_type": "execute_result"
    }
   ],
   "source": [
    "df_cluster = pd.concat([df_cate, df_cont_scaled], axis = 1)\n",
    "df_cluster"
   ]
  },
  {
   "cell_type": "markdown",
   "metadata": {},
   "source": [
    "# 군집화(Clustering)\n",
    "- **K-means 알고리즘**을 사용하여 군집화를 수행해보도록 하겠다.\n",
    "    - K-means 알고리즘의 경우, 연속형 변수들에 대해서만 수행이 가능한데...\n",
    "    - 우선 범주형 변수들을 원-핫 인코딩 처리해서 돌려보도록 하겠다."
   ]
  },
  {
   "cell_type": "markdown",
   "metadata": {},
   "source": [
    "### 군집화를 위한 최적의 K 값 찾기"
   ]
  },
  {
   "cell_type": "markdown",
   "metadata": {},
   "source": [
    "- 먼저 **Elbow 방법**을 사용해서 최적의 K 값을 확인해보겠다."
   ]
  },
  {
   "cell_type": "code",
   "execution_count": 11,
   "metadata": {
    "ExecuteTime": {
     "end_time": "2020-08-12T03:37:02.362168Z",
     "start_time": "2020-08-12T03:36:30.936787Z"
    }
   },
   "outputs": [
    {
     "name": "stderr",
     "output_type": "stream",
     "text": [
      "C:\\Users\\Playdata\\anaconda3\\lib\\site-packages\\sklearn\\utils\\deprecation.py:144: FutureWarning: The sklearn.metrics.classification module is  deprecated in version 0.22 and will be removed in version 0.24. The corresponding classes / functions should instead be imported from sklearn.metrics. Anything that cannot be imported from sklearn.metrics is now part of the private API.\n",
      "  warnings.warn(message, FutureWarning)\n"
     ]
    },
    {
     "data": {
      "image/png": "[encoded data removed]",
      "text/plain": [
       "<Figure size 1152x576 with 1 Axes>"
      ]
     },
     "metadata": {},
     "output_type": "display_data"
    }
   ],
   "source": [
    "from sklearn.cluster import KMeans\n",
    "from sklearn import metrics\n",
    "from yellowbrick.cluster import KElbowVisualizer, SilhouetteVisualizer\n",
    "\n",
    "plt.figure(figsize = (16, 8))\n",
    "\n",
    "kmeans = KMeans()\n",
    "visualizer = KElbowVisualizer(kmeans, k = (1, 10), timings = False)\n",
    "visualizer.fit(df_cluster)\n",
    "\n",
    "plt.title('Distortion Score Elbow for K-means Clustering', fontsize = 20)\n",
    "plt.xlabel('K')\n",
    "plt.ylabel('Distortion Score')\n",
    "plt.show()"
   ]
  },
  {
   "cell_type": "markdown",
   "metadata": {},
   "source": [
    "- Elbow 방법으로 찾은 최적의 K 값은 4라고 나온다.\n",
    "    - 하지만 내가 봤을 때는 **k = 2**와 **k = 3**인 경우도 나쁘지 않아 보인다.\n",
    "- 따라서 **실루엣 다이어그램**을 통해 다시 한 번 최적의 K 값을 찾아보도록 하겠다.\n",
    "    - 각 군집별 평균 실루엣 계수의 시각화를 통한 군집 개수 최적화 방법이다.\n",
    "    - K 값은 2부터 5까지의 값을 사용해 볼 것이다."
   ]
  },
  {
   "cell_type": "code",
   "execution_count": 12,
   "metadata": {
    "ExecuteTime": {
     "end_time": "2020-08-12T03:37:02.393675Z",
     "start_time": "2020-08-12T03:37:02.362168Z"
    }
   },
   "outputs": [],
   "source": [
    "### 여러 개의 클러스터링 갯수를 List로 입력 받아 각각의 실루엣 계수를 면적으로 시각화한 함수 작성\n",
    "def visualize_silhouette(cluster_lists, X_features): \n",
    "    \n",
    "    from sklearn.datasets import make_blobs\n",
    "    from sklearn.cluster import KMeans\n",
    "    from sklearn.metrics import silhouette_samples, silhouette_score\n",
    "\n",
    "    import matplotlib.pyplot as plt\n",
    "    import matplotlib.cm as cm\n",
    "    import math\n",
    "    \n",
    "    # 입력값으로 클러스터링 갯수들을 리스트로 받아서, 각 갯수별로 클러스터링을 적용하고 실루엣 개수를 구함\n",
    "    n_cols = len(cluster_lists)\n",
    "    \n",
    "    # plt.subplots()으로 리스트에 기재된 클러스터링 수만큼의 sub figures를 가지는 axs 생성 \n",
    "    fig, axs = plt.subplots(figsize = (6 * n_cols, 5), nrows = 1, ncols = n_cols)\n",
    "    \n",
    "    # 리스트에 기재된 클러스터링 갯수들을 차례로 iteration 수행하면서 실루엣 개수 시각화\n",
    "    for ind, n_cluster in enumerate(cluster_lists):\n",
    "        \n",
    "        # KMeans 클러스터링 수행하고, 실루엣 스코어와 개별 데이터의 실루엣 값 계산\n",
    "        clusterer = KMeans(n_clusters = n_cluster, init = 'k-means++', random_state = 0)\n",
    "        cluster_labels = clusterer.fit_predict(X_features)\n",
    "        \n",
    "        sil_avg = silhouette_score(X_features, cluster_labels)\n",
    "        sil_values = silhouette_samples(X_features, cluster_labels)\n",
    "        \n",
    "        y_lower = 10\n",
    "        axs[ind].set_title('Number of Cluster : ' + str(n_cluster) + '\\n' \\\n",
    "                           'Silhouette Score :' + str(round(sil_avg, 3)))\n",
    "        axs[ind].set_xlabel(\"The silhouette coefficient values\")\n",
    "        axs[ind].set_ylabel(\"Cluster label\")\n",
    "        axs[ind].set_xlim([-0.1, 1])\n",
    "        axs[ind].set_ylim([0, len(X_features) + (n_cluster + 1) * 10])\n",
    "        axs[ind].set_yticks([])  # Clear the yaxis labels / ticks\n",
    "        axs[ind].set_xticks([0, 0.2, 0.4, 0.6, 0.8, 1])\n",
    "        \n",
    "        # 클러스터링 갯수 별로 fill_betweenx( )형태의 막대 그래프 표현\n",
    "        for i in range(n_cluster):\n",
    "            ith_cluster_sil_values = sil_values[cluster_labels == i]\n",
    "            ith_cluster_sil_values.sort()\n",
    "            \n",
    "            size_cluster_i = ith_cluster_sil_values.shape[0]\n",
    "            y_upper = y_lower + size_cluster_i\n",
    "            \n",
    "            color = cm.nipy_spectral(float(i) / n_cluster)\n",
    "            axs[ind].fill_betweenx(np.arange(y_lower, y_upper), 0, ith_cluster_sil_values, \\\n",
    "                                   facecolor = color, edgecolor = color, alpha = 0.7)\n",
    "            axs[ind].text(-0.05, y_lower + 0.5 * size_cluster_i, str(i))\n",
    "            y_lower = y_upper + 10\n",
    "            \n",
    "        axs[ind].axvline(x = sil_avg, color = \"red\", linestyle = \"--\")"
   ]
  },
  {
   "cell_type": "code",
   "execution_count": 13,
   "metadata": {
    "ExecuteTime": {
     "end_time": "2020-08-12T03:41:37.537000Z",
     "start_time": "2020-08-12T03:37:02.393675Z"
    }
   },
   "outputs": [
    {
     "data": {
      "image/png": "[encoded data removed]",
      "text/plain": [
       "<Figure size 1728x360 with 4 Axes>"
      ]
     },
     "metadata": {},
     "output_type": "display_data"
    }
   ],
   "source": [
    "visualize_silhouette([2, 3, 4, 5], df_cluster)"
   ]
  },
  {
   "cell_type": "code",
   "execution_count": 14,
   "metadata": {
    "ExecuteTime": {
     "end_time": "2020-08-12T03:42:51.622128Z",
     "start_time": "2020-08-12T03:41:37.537000Z"
    }
   },
   "outputs": [
    {
     "name": "stderr",
     "output_type": "stream",
     "text": [
      "C:\\Users\\Playdata\\anaconda3\\lib\\site-packages\\sklearn\\base.py:197: FutureWarning: From version 0.24, get_params will raise an AttributeError if a parameter cannot be retrieved as an instance attribute. Previously it would return None.\n",
      "  FutureWarning)\n"
     ]
    },
    {
     "data": {
      "text/plain": [
       "SilhouetteVisualizer(ax=<matplotlib.axes._subplots.AxesSubplot object at 0x0000029844938748>,\n",
       "                     colors=None, is_fitted='auto', model=None)"
      ]
     },
     "execution_count": 14,
     "metadata": {},
     "output_type": "execute_result"
    },
    {
     "data": {
      "image/png": "[encoded data removed]",
      "text/plain": [
       "<Figure size 576x396 with 1 Axes>"
      ]
     },
     "metadata": {},
     "output_type": "display_data"
    }
   ],
   "source": [
    "# k = 2인 경우\n",
    "kmeans_2 = KMeans(n_clusters = 2, init = 'k-means++', random_state = 0)\n",
    "visualizer = SilhouetteVisualizer(kmeans_2)\n",
    "visualizer.fit(df_cluster)"
   ]
  },
  {
   "cell_type": "code",
   "execution_count": 15,
   "metadata": {
    "ExecuteTime": {
     "end_time": "2020-08-12T03:43:51.617090Z",
     "start_time": "2020-08-12T03:42:51.627113Z"
    }
   },
   "outputs": [
    {
     "name": "stderr",
     "output_type": "stream",
     "text": [
      "C:\\Users\\Playdata\\anaconda3\\lib\\site-packages\\sklearn\\base.py:197: FutureWarning: From version 0.24, get_params will raise an AttributeError if a parameter cannot be retrieved as an instance attribute. Previously it would return None.\n",
      "  FutureWarning)\n"
     ]
    },
    {
     "data": {
      "text/plain": [
       "SilhouetteVisualizer(ax=<matplotlib.axes._subplots.AxesSubplot object at 0x00000298449D8B48>,\n",
       "                     colors=None, is_fitted='auto', model=None)"
      ]
     },
     "execution_count": 15,
     "metadata": {},
     "output_type": "execute_result"
    },
    {
     "data": {
      "image/png": "[encoded data removed]",
      "text/plain": [
       "<Figure size 576x396 with 1 Axes>"
      ]
     },
     "metadata": {},
     "output_type": "display_data"
    }
   ],
   "source": [
    "# k = 3인 경우\n",
    "kmeans_3 = KMeans(n_clusters = 3, init = 'k-means++', random_state = 0)\n",
    "visualizer = SilhouetteVisualizer(kmeans_3)\n",
    "visualizer.fit(df_cluster)"
   ]
  },
  {
   "cell_type": "code",
   "execution_count": 16,
   "metadata": {
    "ExecuteTime": {
     "end_time": "2020-08-12T03:44:52.536512Z",
     "start_time": "2020-08-12T03:43:51.619050Z"
    }
   },
   "outputs": [
    {
     "name": "stderr",
     "output_type": "stream",
     "text": [
      "C:\\Users\\Playdata\\anaconda3\\lib\\site-packages\\sklearn\\base.py:197: FutureWarning: From version 0.24, get_params will raise an AttributeError if a parameter cannot be retrieved as an instance attribute. Previously it would return None.\n",
      "  FutureWarning)\n"
     ]
    },
    {
     "data": {
      "text/plain": [
       "SilhouetteVisualizer(ax=<matplotlib.axes._subplots.AxesSubplot object at 0x00000298449DDBC8>,\n",
       "                     colors=None, is_fitted='auto', model=None)"
      ]
     },
     "execution_count": 16,
     "metadata": {},
     "output_type": "execute_result"
    },
    {
     "data": {
      "image/png": "[encoded data removed]",
      "text/plain": [
       "<Figure size 576x396 with 1 Axes>"
      ]
     },
     "metadata": {},
     "output_type": "display_data"
    }
   ],
   "source": [
    "# k = 4인 경우\n",
    "kmeans_4 = KMeans(n_clusters = 4, init = 'k-means++', random_state = 0)\n",
    "visualizer = SilhouetteVisualizer(kmeans_4)\n",
    "visualizer.fit(df_cluster)"
   ]
  },
  {
   "cell_type": "code",
   "execution_count": 17,
   "metadata": {
    "ExecuteTime": {
     "end_time": "2020-08-12T03:45:55.650738Z",
     "start_time": "2020-08-12T03:44:52.538508Z"
    }
   },
   "outputs": [
    {
     "name": "stderr",
     "output_type": "stream",
     "text": [
      "C:\\Users\\Playdata\\anaconda3\\lib\\site-packages\\sklearn\\base.py:197: FutureWarning: From version 0.24, get_params will raise an AttributeError if a parameter cannot be retrieved as an instance attribute. Previously it would return None.\n",
      "  FutureWarning)\n"
     ]
    },
    {
     "data": {
      "text/plain": [
       "SilhouetteVisualizer(ax=<matplotlib.axes._subplots.AxesSubplot object at 0x00000298435C7948>,\n",
       "                     colors=None, is_fitted='auto', model=None)"
      ]
     },
     "execution_count": 17,
     "metadata": {},
     "output_type": "execute_result"
    },
    {
     "data": {
      "image/png": "[encoded data removed]",
      "text/plain": [
       "<Figure size 576x396 with 1 Axes>"
      ]
     },
     "metadata": {},
     "output_type": "display_data"
    }
   ],
   "source": [
    "# k = 5인 경우\n",
    "kmeans_5 = KMeans(n_clusters = 5, init = 'k-means++', random_state = 0)\n",
    "visualizer = SilhouetteVisualizer(kmeans_5)\n",
    "visualizer.fit(df_cluster)"
   ]
  },
  {
   "cell_type": "markdown",
   "metadata": {},
   "source": [
    "### 최적의 K 값으로 군집화 수행\n",
    "- **Elbow 방법**과 **실루엣 다이어그램** 결과를 통해, **최적의 K 값은 2라고 판단**하였다."
   ]
  },
  {
   "cell_type": "code",
   "execution_count": 18,
   "metadata": {
    "ExecuteTime": {
     "end_time": "2020-08-12T03:45:57.651762Z",
     "start_time": "2020-08-12T03:45:55.653728Z"
    }
   },
   "outputs": [
    {
     "data": {
      "text/plain": [
       "1    18925\n",
       "0    18447\n",
       "Name: cluster, dtype: int64"
      ]
     },
     "execution_count": 18,
     "metadata": {},
     "output_type": "execute_result"
    }
   ],
   "source": [
    "kmeans = KMeans(n_clusters = 2, init = 'k-means++', max_iter = 300, random_state = 0)\n",
    "kmeans.fit(df_cluster)\n",
    "\n",
    "# 각 데이터가 속하는 군집을 의미하는 'cluster' 변수를 df_train_fill_dust 데이터 셋에 추가\n",
    "df_train['cluster'] = kmeans.labels_\n",
    "df_train.cluster.value_counts()"
   ]
  },
  {
   "cell_type": "markdown",
   "metadata": {},
   "source": [
    "# Cluster 변수가 추가된 데이터 셋 csv 파일로 내보내기"
   ]
  },
  {
   "cell_type": "code",
   "execution_count": 20,
   "metadata": {
    "ExecuteTime": {
     "end_time": "2020-08-12T03:47:52.277890Z",
     "start_time": "2020-08-12T03:47:51.776133Z"
    }
   },
   "outputs": [],
   "source": [
    "df_train.to_csv('C:/Users/Playdata/2020_Bigcontest_working/dataset/clustered.csv', index = False)"
   ]
  }
 ],
 "metadata": {
  "kernelspec": {
   "display_name": "Python 3",
   "language": "python",
   "name": "python3"
  },
  "language_info": {
   "codemirror_mode": {
    "name": "ipython",
    "version": 3
   },
   "file_extension": ".py",
   "mimetype": "text/x-python",
   "name": "python",
   "nbconvert_exporter": "python",
   "pygments_lexer": "ipython3",
   "version": "3.7.6"
  },
  "toc": {
   "base_numbering": 1,
   "nav_menu": {},
   "number_sections": true,
   "sideBar": true,
   "skip_h1_title": false,
   "title_cell": "Table of Contents",
   "title_sidebar": "Contents",
   "toc_cell": false,
   "toc_position": {},
   "toc_section_display": true,
   "toc_window_display": false
  }
 },
 "nbformat": 4,
 "nbformat_minor": 4
}
