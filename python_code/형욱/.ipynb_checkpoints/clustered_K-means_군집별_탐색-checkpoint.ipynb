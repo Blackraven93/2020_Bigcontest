{
 "cells": [
  {
   "cell_type": "markdown",
   "metadata": {},
   "source": [
    "# 각 군집별 특성 파악\n",
    "- 이제 각 군집별(0, 1)로 어떠한 특성을 보이는지 살펴보도록 하겠다."
   ]
  },
  {
   "cell_type": "markdown",
   "metadata": {},
   "source": [
    "**<Raw Data 변수 설명>**\n",
    "1. date: 방송일시\n",
    "2. exp_mins: 노출(분)\n",
    "3. mom_code: 마더코드\n",
    "4. pd_code: 상품코드\n",
    "5. pd_name: 상품명\n",
    "6. pd_group: 상품군\n",
    "7. pd_price: 판매단가\n",
    "8. sales: 취급액\n",
    "    - 취급액 = 판매단가 x 주문량\n",
    "9. weekdays: 요일\n",
    "10. seasons: 계절\n",
    "    - 1: 겨울(winter): 12 ~ 2월\n",
    "    - 2: 봄(spring): 3 ~ 5월\n",
    "    - 3: 여름(summer): 6 ~ 8월\n",
    "    - 4: 가을(autumn): 9 ~ 11월\n",
    "11. rating: 시청률\n",
    "    - 단위는 \"%\"\n",
    "    - exp_mins(노출(분))을 기준으로 평균 값을 계산\n",
    "12. temp: 기온\n",
    "13. rain: 강수량\n",
    "14. humidity: 습도\n",
    "15. snow: 적설량\n",
    "16. dust: 미세먼지 농도\n",
    "17. is_rain: 비 내림 여부\n",
    "    - 0: 비 내리지 않음\n",
    "    - 1: 비 내림\n",
    "18. is_snow: 눈 내림 여부\n",
    "    - 0: 눈 내리지 않음\n",
    "    - 1: 눈 내림"
   ]
  },
  {
   "cell_type": "code",
   "execution_count": null,
   "metadata": {},
   "outputs": [],
   "source": [
    "import numpy as np\n",
    "import pandas as pd\n",
    "import datetime as dt\n",
    "import matplotlib.pyplot as plt\n",
    "import seaborn as sns\n",
    "import missingno as msno\n",
    "%matplotlib inline\n",
    "\n",
    "# for문 진행 현황을 확인할 수 있는 패키지\n",
    "from tqdm.notebook import tqdm\n",
    "\n",
    "# 여러 개의 데이터 프레임을 한 번에 merge 해주기 위한 패키지\n",
    "from functools import reduce\n",
    "\n",
    "# 이 두 줄의 코드는 matplotlib의 기본 scheme말고, seaborn scheme을 세팅해준다\n",
    "# 일일이 graph의 font size를 지정할 필요 없이, seaborn의 font_scale을 사용하면 편리하다\n",
    "plt.style.use('seaborn')\n",
    "sns.set(font_scale = 2.5)\n",
    "\n",
    "# 그래프에서 한글 폰트 깨지는 문제를 해결해주기 위한 코드\n",
    "from matplotlib import font_manager, rc\n",
    "plt.rcParams['axes.unicode_minus'] = False\n",
    "\n",
    "import platform\n",
    "\n",
    "if platform.system() == 'Darwin':\n",
    "    rc('font', family='AppleGothic')\n",
    "elif platform.system() == 'Windows':\n",
    "    path = \"c:/Windows/Fonts/malgun.ttf\"\n",
    "    font_name = font_manager.FontProperties(fname = path).get_name()\n",
    "    rc('font', family = font_name)\n",
    "else:\n",
    "    print('Unknown system... sorry~~~~')"
   ]
  },
  {
   "cell_type": "code",
   "execution_count": null,
   "metadata": {},
   "outputs": [],
   "source": [
    "clustered = pd.read_csv('C:/Users/82109/Desktop/Data Science/Competition/2020_Bigcontest_working/dataset/clustered.csv')\n",
    "clustered.head()"
   ]
  },
  {
   "cell_type": "markdown",
   "metadata": {},
   "source": [
    "## 군집 정의"
   ]
  },
  {
   "cell_type": "markdown",
   "metadata": {},
   "source": [
    "- 먼저 cluster가 \"0\"인 데이터 셋과 \"1\"인 데이터 셋으로 분할하겠다."
   ]
  },
  {
   "cell_type": "code",
   "execution_count": null,
   "metadata": {},
   "outputs": [],
   "source": [
    "df_cluster_0 = clustered[clustered['cluster'] == 0]\n",
    "df_cluster_1 = clustered[clustered['cluster'] == 1]"
   ]
  },
  {
   "cell_type": "code",
   "execution_count": null,
   "metadata": {},
   "outputs": [],
   "source": [
    "df_cluster_0.month.value_counts()"
   ]
  },
  {
   "cell_type": "code",
   "execution_count": null,
   "metadata": {},
   "outputs": [],
   "source": [
    "df_cluster_1.month.value_counts()"
   ]
  },
  {
   "cell_type": "markdown",
   "metadata": {},
   "source": [
    "- 위 결과를 보면, 각 군집별로 존재하는 월(month)이 다르다.\n",
    "    - cluster = 0 : 7 ~ 12월(하반기)\n",
    "    - cluster = 1 : 1 ~ 6월(상반기)\n",
    "- 다음으로 각 군집별로 판매량(pd_count)에 차이가 있는지 확인해보겠다.\n",
    "    - 차이가 있다면 각 군집을 \"판매량이 높은 군집\"과 \"판매량이 낮은 군집\"으로 분류할 수 있기 때문!!"
   ]
  },
  {
   "cell_type": "code",
   "execution_count": null,
   "metadata": {},
   "outputs": [],
   "source": [
    "f, (ax1, ax2) = plt.subplots(nrows = 1, ncols = 2)\n",
    "f.set_size_inches(20, 5)\n",
    "\n",
    "sns.boxplot(df_cluster_0['pd_count'], ax = ax1)\n",
    "sns.boxplot(df_cluster_1['pd_count'], ax = ax2)\n",
    "\n",
    "ax1.set_title('Cluster = 0')\n",
    "ax2.set_title('Cluster = 1')\n",
    "\n",
    "plt.show()"
   ]
  },
  {
   "cell_type": "markdown",
   "metadata": {},
   "source": [
    "- 위 결과를 통해 **cluster = 0인 경우**를 **\"판매량이 비교적 높은 군집\"**, **cluster = 1인 경우**를 **\"판매량이 비교적 낮은 군집\"**으로 정의내릴 수 있어보인다."
   ]
  },
  {
   "cell_type": "markdown",
   "metadata": {},
   "source": [
    "## 각 군집별 탐색"
   ]
  },
  {
   "cell_type": "code",
   "execution_count": null,
   "metadata": {},
   "outputs": [],
   "source": [
    "clustered.info()"
   ]
  },
  {
   "cell_type": "markdown",
   "metadata": {},
   "source": [
    "## 연속형 변수\n",
    "- exp_mins\n",
    "- pd_count\n",
    "- rating\n",
    "- temp\n",
    "- humidity\n",
    "- dust"
   ]
  },
  {
   "cell_type": "markdown",
   "metadata": {},
   "source": [
    "### 각 군집별(cluster) 노출(분) 시간(exp_mins)"
   ]
  },
  {
   "cell_type": "code",
   "execution_count": null,
   "metadata": {},
   "outputs": [],
   "source": [
    "f, ax1 = plt.subplots(nrows = 1)\n",
    "f.set_size_inches(30, 10)\n",
    "\n",
    "sns.violinplot(data = clustered, x = 'cluster', y = 'exp_mins', ax = ax1)\n",
    "ax1.set_title('각 군집별 노출(분)', fontsize = 40)\n",
    "plt.show()"
   ]
  },
  {
   "cell_type": "markdown",
   "metadata": {},
   "source": [
    "- 위 결과를 보면, 군집별 노출(분) 시간에는 큰 차이가 없어보인다."
   ]
  },
  {
   "cell_type": "markdown",
   "metadata": {},
   "source": [
    "**<각 군집별 월별/일별/시간대별/요일별/계절별 \"연속형 변수\"> 함수 생성**\n",
    "- 여기서부터 그려볼 그래프는 동일한 코드를 사용하므로, 편리성을 위해 하나의 함수를 만들어서 사용하겠다."
   ]
  },
  {
   "cell_type": "code",
   "execution_count": null,
   "metadata": {},
   "outputs": [],
   "source": [
    "def cluster_plots(y_var_eng, y_var_kor):\n",
    "    f, (ax1, ax2, ax3, ax4, ax5) = plt.subplots(nrows = 5)\n",
    "    f.set_size_inches(50, 50)\n",
    "\n",
    "    sns.pointplot(data = clustered, x = 'month', y = y_var_eng, hue = 'cluster', ax = ax1)\n",
    "    sns.pointplot(data = clustered, x = 'day', y = y_var_eng, hue = 'cluster', ax = ax2)\n",
    "    sns.pointplot(data = clustered, x = 'hour', y = y_var_eng, hue = 'cluster', ax = ax3)\n",
    "    sns.pointplot(data = clustered, x = 'weekdays', y = y_var_eng, hue = 'cluster', ax = ax4)\n",
    "    sns.pointplot(data = clustered, x = 'seasons', y = y_var_eng, hue = 'cluster', ax = ax5)\n",
    "\n",
    "    ax1.set_title('각 군집별 월별 {}'.format(y_var_kor), fontsize = 40)\n",
    "    ax2.set_title('각 군집별 일별 {}'.format(y_var_kor), fontsize = 40)\n",
    "    ax3.set_title('각 군집별 시간대별 {}'.format(y_var_kor), fontsize = 40)\n",
    "    ax4.set_title('각 군집별 요일별 {}'.format(y_var_kor), fontsize = 40)\n",
    "    ax5.set_title('각 군집별 계절별 {}'.format(y_var_kor), fontsize = 40)\n",
    "\n",
    "    # legend 위치 및 사이즈 조절\n",
    "    axs = [ax1, ax2, ax3, ax4, ax5]\n",
    "    for ax in axs:\n",
    "        ax.legend(loc = 'center left', title = 'Cluster', frameon = True, \n",
    "                  bbox_to_anchor = (1, 0.5), title_fontsize = 30, fontsize = 30)\n",
    "\n",
    "    plt.subplots_adjust(hspace = 0.6) # 각각의 subplot들이 겹치지 않도록 세로 공간을 조정\n",
    "    plt.show()"
   ]
  },
  {
   "cell_type": "markdown",
   "metadata": {},
   "source": [
    "### 각 군집별(cluster) 월별(month)/일별(day)/시간대별(hour)/요일별(weekdays)/계절별(seasons) 판매량(pd_count)"
   ]
  },
  {
   "cell_type": "code",
   "execution_count": null,
   "metadata": {},
   "outputs": [],
   "source": [
    "cluster_plots('pd_count', '판매량')"
   ]
  },
  {
   "cell_type": "markdown",
   "metadata": {},
   "source": [
    "- 위 결과를 통해, 전반적으로 \"상반기(1 ~ 6월)\"보다 \"하반기(7 ~ 12월)\"에 판매량이 더 높은 것을 알 수 있다."
   ]
  },
  {
   "cell_type": "markdown",
   "metadata": {},
   "source": [
    "### 각 군집별(cluster) 월별(month)/일별(day)/시간대별(hour)/요일별(weekdays)/계절별(seasons) 시청률(rating)"
   ]
  },
  {
   "cell_type": "code",
   "execution_count": null,
   "metadata": {},
   "outputs": [],
   "source": [
    "cluster_plots('rating', '시청률')"
   ]
  },
  {
   "cell_type": "markdown",
   "metadata": {},
   "source": [
    "- 위 결과를 통해, 전반적으로 \"상반기(1 ~ 6월)\"보다 \"하반기(7 ~ 12월)\"에 시청률이 더 높은 것을 알 수 있다.\n",
    "    - 이러한 결과로 보았을 때, cluster = 0인 군집은 판매량과 시청률이 모두 비교적 높고, cluster = 1인 군집은 판매량과 시청률이 모두 비교적 낮음을 알 수 있다.\n",
    "        - 즉, \"판매량(pd_count)\"과 \"시청률(rating)\"은 서로 관련이 있어보인다.\n",
    "        - 근데 왜 상관계수가 매우 낮게 나왔을까...(의문)\n",
    "- 요약하면 **판매량이 높은 군집**은 **\"하반기(7 ~ 12월) + 높은 시청률\"**이라는 특징을 갖는다."
   ]
  },
  {
   "cell_type": "markdown",
   "metadata": {},
   "source": [
    "### 각 군집별(cluster) 기온(temp)/습도(humidity)/미세먼지 농도(dust)"
   ]
  },
  {
   "cell_type": "code",
   "execution_count": null,
   "metadata": {},
   "outputs": [],
   "source": [
    "f, (ax1, ax2, ax3) = plt.subplots(nrows = 3)\n",
    "f.set_size_inches(40, 40)\n",
    "\n",
    "# 1. 기온(temp)\n",
    "sns.boxplot(data = clustered, x = 'cluster', y = 'temp', ax = ax1)\n",
    "# 2. 습도(humidity)\n",
    "sns.boxplot(data = clustered, x = 'cluster', y = 'humidity', ax = ax2)\n",
    "# 3. 미세먼지 농도(dust)\n",
    "sns.boxplot(data = clustered, x = 'cluster', y = 'dust', ax = ax3)\n",
    "\n",
    "ax1.set_title('각 군집별 기온', fontsize = 40)\n",
    "ax2.set_title('각 군집별 습도', fontsize = 40)\n",
    "ax3.set_title('각 군집별 미세먼지 농도', fontsize = 40)\n",
    "\n",
    "plt.subplots_adjust(hspace = 0.3) # 각각의 subplot들이 겹치지 않도록 세로 공간을 조정\n",
    "plt.show()"
   ]
  },
  {
   "cell_type": "markdown",
   "metadata": {},
   "source": [
    "### 각 군집별(cluster) 월별(month)/일별(day)/시간대별(hour)/요일별(weekdays)/계절별(seasons) 기온(temp)"
   ]
  },
  {
   "cell_type": "code",
   "execution_count": null,
   "metadata": {},
   "outputs": [],
   "source": [
    "cluster_plots('temp', '기온')"
   ]
  },
  {
   "cell_type": "markdown",
   "metadata": {},
   "source": [
    "- 전반적으로 판매량이 낮은 군집(1)보다 판매량이 높은 군집(0)의 기온이 더 높다.\n",
    "    - 이걸 \"기온이 높을수록 판매량이 높다\"라고 볼 수 있나..?"
   ]
  },
  {
   "cell_type": "markdown",
   "metadata": {},
   "source": [
    "### 각 군집별(cluster) 월별(month)/일별(day)/시간대별(hour)/요일별(weekdays)/계절별(seasons) 습도(humidity)"
   ]
  },
  {
   "cell_type": "code",
   "execution_count": null,
   "metadata": {},
   "outputs": [],
   "source": [
    "cluster_plots('humidity', '습도')"
   ]
  },
  {
   "cell_type": "markdown",
   "metadata": {},
   "source": [
    "- 전반적으로 판매량이 낮은 군집(1)보다 판매량이 높은 군집(0)의 습도가 더 높다.\n",
    "    - 이걸 \"습도가 높을수록 판매량이 높다\"라고 볼 수 있나..?"
   ]
  },
  {
   "cell_type": "markdown",
   "metadata": {},
   "source": [
    "### 각 군집별(cluster) 월별(month)/일별(day)/시간대별(hour)/요일별(weekdays)/계절별(seasons) 미세먼지 농도(dust)"
   ]
  },
  {
   "cell_type": "code",
   "execution_count": null,
   "metadata": {},
   "outputs": [],
   "source": [
    "cluster_plots('dust', '미세먼지 농도')"
   ]
  },
  {
   "cell_type": "markdown",
   "metadata": {},
   "source": [
    "- 전반적으로 판매량이 높은 군집(0)보다 판매량이 낮은 군집(1)의 미세먼지 농도가 더 높다.\n",
    "    - 미세먼지 농도가 높으면 판매량도 높아질 줄 알았는데...\n",
    "    - 이걸 \"미세먼지 농도가 높을수록 판매량이 낮다\"라고 볼 수 있나..?"
   ]
  },
  {
   "cell_type": "markdown",
   "metadata": {},
   "source": [
    "## 범주형 변수\n",
    "- pd_group\n",
    "- is_rain\n",
    "- is_snow"
   ]
  },
  {
   "cell_type": "markdown",
   "metadata": {},
   "source": [
    "### 각 군집별(cluster) 상품군(pd_group)별 판매량"
   ]
  },
  {
   "cell_type": "code",
   "execution_count": null,
   "metadata": {},
   "outputs": [],
   "source": [
    "f, (ax1, ax2) = plt.subplots(nrows = 1, ncols = 2)\n",
    "f.set_size_inches(50, 20)\n",
    "\n",
    "# cluster = 0인 데이터 셋\n",
    "sns.countplot(data = df_cluster_0, x = 'pd_group',\n",
    "              order = df_cluster_0['pd_group'].value_counts().index, ax = ax1)\n",
    "# cluster = 1인 데이터 셋\n",
    "sns.countplot(data = df_cluster_1, x = 'pd_group',\n",
    "              order = df_cluster_1['pd_group'].value_counts().index, ax = ax2)\n",
    "\n",
    "ax1.set_title('Cluster = 0의 상품군별 판매량', fontsize = 40)\n",
    "ax2.set_title('Cluster = 1의 상품군별 판매량', fontsize = 40)\n",
    "\n",
    "ax1.set(ylabel = 'pd_count')\n",
    "ax2.set(ylabel = 'pd_count')\n",
    "\n",
    "plt.show()"
   ]
  },
  {
   "cell_type": "markdown",
   "metadata": {},
   "source": [
    "- 각 군집별로 판매량이 높은 상품군은 위와 같다.\n",
    "    - 판매량이 비교적 높은 군집(0)의 경우, \"주방\" 상품군을 가장 많이 방송했다\n",
    "    - 판매량이 비교적 낮은 군집(1)의 경우, \"가전\" 상품군을 가장 많이 방송했다."
   ]
  },
  {
   "cell_type": "markdown",
   "metadata": {},
   "source": [
    "### 각 군집별(cluster) 비 내림 여부(is_rain) 및 눈 내림 여부(is_snow)"
   ]
  },
  {
   "cell_type": "code",
   "execution_count": null,
   "metadata": {
    "scrolled": true
   },
   "outputs": [],
   "source": [
    "f, (ax1, ax2) = plt.subplots(nrows = 1, ncols = 2)\n",
    "f.set_size_inches(50, 20)\n",
    "\n",
    "# 1. 비 내림 여부\n",
    "sns.countplot(data = clustered, x = 'is_rain', hue = 'cluster', ax = ax1)\n",
    "# 2. 눈 내림 여부\n",
    "sns.countplot(data = clustered, x = 'is_snow', hue = 'cluster', ax = ax2)\n",
    "\n",
    "ax1.set_title('각 군집별 비 내림 여부', fontsize = 40)\n",
    "ax2.set_title('각 군집별 눈 내림 여부', fontsize = 40)\n",
    "\n",
    "ax1.set(ylim = (0, 20000))\n",
    "ax2.set(ylim = (0, 20000))\n",
    "\n",
    "ax1.legend(title = 'Cluster', title_fontsize = 30, frameon = True, fontsize = 30)\n",
    "ax2.legend(title = 'Cluster', title_fontsize = 30, frameon = True, fontsize = 30)\n",
    "\n",
    "plt.show()"
   ]
  },
  {
   "cell_type": "markdown",
   "metadata": {},
   "source": [
    "- 결과를 보면, 두 군집 모두 비 또눈 눈이 내리지 않은 날이 더 많은데 이는 당연한 결과이다.\n",
    "    - 1년 중, 비 또는 눈이 내린 날이 많지 않으므로..\n",
    "- 따라서 비 또는 눈이 내린 날에 대해서만 결과 해석을 해보겠다. (즉, is_rain과 is_snow 변수가 \"1\"에 해당하는 부분에 대해서만 분석)\n",
    "    - cluster = 0 : 판매량이 비교적 적은 군집에 비해, 판매량이 비교적 높은 군집이 비가 내린 날이 많다.\n",
    "    - cluster = 1 : 판매량이 비교적 높은 군집에 비해, 판매량이 비교적 낮은 군집이 눈이 내린 날이 많다.\n",
    "    - 다시 말하면 **비가 내린 날이 많을수록 판매량이 비교적 높고, 눈이 내린 날이 많을수록 판매량이 비교적 낮다.**\n",
    "        - 근데 왜 앞에서 상관계수는 낮게 나온거죠..?"
   ]
  }
 ],
 "metadata": {
  "kernelspec": {
   "display_name": "Python 3",
   "language": "python",
   "name": "python3"
  },
  "language_info": {
   "codemirror_mode": {
    "name": "ipython",
    "version": 3
   },
   "file_extension": ".py",
   "mimetype": "text/x-python",
   "name": "python",
   "nbconvert_exporter": "python",
   "pygments_lexer": "ipython3",
   "version": "3.8.3"
  }
 },
 "nbformat": 4,
 "nbformat_minor": 4
}
